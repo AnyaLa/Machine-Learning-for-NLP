{
 "cells": [
  {
   "cell_type": "markdown",
   "metadata": {},
   "source": [
    "# Предсказание индекса Доу-Джонса по заголовкам новостей "
   ]
  },
  {
   "cell_type": "markdown",
   "metadata": {},
   "source": [
    "#### Команда:\n",
    "Анна Лапидус, \n",
    "Надежда Катричева"
   ]
  },
  {
   "cell_type": "markdown",
   "metadata": {},
   "source": [
    "## Постановка задачи"
   ]
  },
  {
   "cell_type": "markdown",
   "metadata": {},
   "source": [
    "Входные данные включают в себя коллекцию из заголовков 25 наиболее популярных новостных статей за день и бинаризованный индекс Доу-Джонса (1 - рост или сохранение индекса, 0 - падение индекса). Коолекция содержит данные с 2008-08-08 до 2016-07-01.\n",
    "<br>\n",
    "Решается задача бинарной классификации, бинаризованный индекс Доу-Джонса представляет собой метку класса, заголовки статей необходимо использовать для извлечения признаков."
   ]
  },
  {
   "cell_type": "code",
   "execution_count": 11,
   "metadata": {
    "collapsed": true
   },
   "outputs": [],
   "source": [
    "import pandas as pd\n",
    "import re"
   ]
  },
  {
   "cell_type": "markdown",
   "metadata": {},
   "source": [
    "Импортируем данные в датафрейм для последующей работы."
   ]
  },
  {
   "cell_type": "code",
   "execution_count": 12,
   "metadata": {
    "collapsed": true
   },
   "outputs": [],
   "source": [
    "df = pd.read_csv('Combined_News_DJIA.csv')"
   ]
  },
  {
   "cell_type": "code",
   "execution_count": 13,
   "metadata": {
    "scrolled": true
   },
   "outputs": [
    {
     "data": {
      "text/html": [
       "<div>\n",
       "<style>\n",
       "    .dataframe thead tr:only-child th {\n",
       "        text-align: right;\n",
       "    }\n",
       "\n",
       "    .dataframe thead th {\n",
       "        text-align: left;\n",
       "    }\n",
       "\n",
       "    .dataframe tbody tr th {\n",
       "        vertical-align: top;\n",
       "    }\n",
       "</style>\n",
       "<table border=\"1\" class=\"dataframe\">\n",
       "  <thead>\n",
       "    <tr style=\"text-align: right;\">\n",
       "      <th></th>\n",
       "      <th>Date</th>\n",
       "      <th>Label</th>\n",
       "      <th>Top1</th>\n",
       "      <th>Top2</th>\n",
       "      <th>Top3</th>\n",
       "      <th>Top4</th>\n",
       "      <th>Top5</th>\n",
       "      <th>Top6</th>\n",
       "      <th>Top7</th>\n",
       "      <th>Top8</th>\n",
       "      <th>...</th>\n",
       "      <th>Top16</th>\n",
       "      <th>Top17</th>\n",
       "      <th>Top18</th>\n",
       "      <th>Top19</th>\n",
       "      <th>Top20</th>\n",
       "      <th>Top21</th>\n",
       "      <th>Top22</th>\n",
       "      <th>Top23</th>\n",
       "      <th>Top24</th>\n",
       "      <th>Top25</th>\n",
       "    </tr>\n",
       "  </thead>\n",
       "  <tbody>\n",
       "    <tr>\n",
       "      <th>0</th>\n",
       "      <td>2008-08-08</td>\n",
       "      <td>0</td>\n",
       "      <td>b\"Georgia 'downs two Russian warplanes' as cou...</td>\n",
       "      <td>b'BREAKING: Musharraf to be impeached.'</td>\n",
       "      <td>b'Russia Today: Columns of troops roll into So...</td>\n",
       "      <td>b'Russian tanks are moving towards the capital...</td>\n",
       "      <td>b\"Afghan children raped with 'impunity,' U.N. ...</td>\n",
       "      <td>b'150 Russian tanks have entered South Ossetia...</td>\n",
       "      <td>b\"Breaking: Georgia invades South Ossetia, Rus...</td>\n",
       "      <td>b\"The 'enemy combatent' trials are nothing but...</td>\n",
       "      <td>...</td>\n",
       "      <td>b'Georgia Invades South Ossetia - if Russia ge...</td>\n",
       "      <td>b'Al-Qaeda Faces Islamist Backlash'</td>\n",
       "      <td>b'Condoleezza Rice: \"The US would not act to p...</td>\n",
       "      <td>b'This is a busy day:  The European Union has ...</td>\n",
       "      <td>b\"Georgia will withdraw 1,000 soldiers from Ir...</td>\n",
       "      <td>b'Why the Pentagon Thinks Attacking Iran is a ...</td>\n",
       "      <td>b'Caucasus in crisis: Georgia invades South Os...</td>\n",
       "      <td>b'Indian shoe manufactory  - And again in a se...</td>\n",
       "      <td>b'Visitors Suffering from Mental Illnesses Ban...</td>\n",
       "      <td>b\"No Help for Mexico's Kidnapping Surge\"</td>\n",
       "    </tr>\n",
       "    <tr>\n",
       "      <th>1</th>\n",
       "      <td>2008-08-11</td>\n",
       "      <td>1</td>\n",
       "      <td>b'Why wont America and Nato help us? If they w...</td>\n",
       "      <td>b'Bush puts foot down on Georgian conflict'</td>\n",
       "      <td>b\"Jewish Georgian minister: Thanks to Israeli ...</td>\n",
       "      <td>b'Georgian army flees in disarray as Russians ...</td>\n",
       "      <td>b\"Olympic opening ceremony fireworks 'faked'\"</td>\n",
       "      <td>b'What were the Mossad with fraudulent New Zea...</td>\n",
       "      <td>b'Russia angered by Israeli military sale to G...</td>\n",
       "      <td>b'An American citizen living in S.Ossetia blam...</td>\n",
       "      <td>...</td>\n",
       "      <td>b'Israel and the US behind the Georgian aggres...</td>\n",
       "      <td>b'\"Do not believe TV, neither Russian nor Geor...</td>\n",
       "      <td>b'Riots are still going on in Montreal (Canada...</td>\n",
       "      <td>b'China to overtake US as largest manufacturer'</td>\n",
       "      <td>b'War in South Ossetia [PICS]'</td>\n",
       "      <td>b'Israeli Physicians Group Condemns State Tort...</td>\n",
       "      <td>b' Russia has just beaten the United States ov...</td>\n",
       "      <td>b'Perhaps *the* question about the Georgia - R...</td>\n",
       "      <td>b'Russia is so much better at war'</td>\n",
       "      <td>b\"So this is what it's come to: trading sex fo...</td>\n",
       "    </tr>\n",
       "    <tr>\n",
       "      <th>2</th>\n",
       "      <td>2008-08-12</td>\n",
       "      <td>0</td>\n",
       "      <td>b'Remember that adorable 9-year-old who sang a...</td>\n",
       "      <td>b\"Russia 'ends Georgia operation'\"</td>\n",
       "      <td>b'\"If we had no sexual harassment we would hav...</td>\n",
       "      <td>b\"Al-Qa'eda is losing support in Iraq because ...</td>\n",
       "      <td>b'Ceasefire in Georgia: Putin Outmaneuvers the...</td>\n",
       "      <td>b'Why Microsoft and Intel tried to kill the XO...</td>\n",
       "      <td>b'Stratfor: The Russo-Georgian War and the Bal...</td>\n",
       "      <td>b\"I'm Trying to Get a Sense of This Whole Geor...</td>\n",
       "      <td>...</td>\n",
       "      <td>b'U.S. troops still in Georgia (did you know t...</td>\n",
       "      <td>b'Why Russias response to Georgia was right'</td>\n",
       "      <td>b'Gorbachev accuses U.S. of making a \"serious ...</td>\n",
       "      <td>b'Russia, Georgia, and NATO: Cold War Two'</td>\n",
       "      <td>b'Remember that adorable 62-year-old who led y...</td>\n",
       "      <td>b'War in Georgia: The Israeli connection'</td>\n",
       "      <td>b'All signs point to the US encouraging Georgi...</td>\n",
       "      <td>b'Christopher King argues that the US and NATO...</td>\n",
       "      <td>b'America: The New Mexico?'</td>\n",
       "      <td>b\"BBC NEWS | Asia-Pacific | Extinction 'by man...</td>\n",
       "    </tr>\n",
       "    <tr>\n",
       "      <th>3</th>\n",
       "      <td>2008-08-13</td>\n",
       "      <td>0</td>\n",
       "      <td>b' U.S. refuses Israel weapons to attack Iran:...</td>\n",
       "      <td>b\"When the president ordered to attack Tskhinv...</td>\n",
       "      <td>b' Israel clears troops who killed Reuters cam...</td>\n",
       "      <td>b'Britain\\'s policy of being tough on drugs is...</td>\n",
       "      <td>b'Body of 14 year old found in trunk; Latest (...</td>\n",
       "      <td>b'China has moved 10 *million* quake survivors...</td>\n",
       "      <td>b\"Bush announces Operation Get All Up In Russi...</td>\n",
       "      <td>b'Russian forces sink Georgian ships '</td>\n",
       "      <td>...</td>\n",
       "      <td>b'Elephants extinct by 2020?'</td>\n",
       "      <td>b'US humanitarian missions soon in Georgia - i...</td>\n",
       "      <td>b\"Georgia's DDOS came from US sources\"</td>\n",
       "      <td>b'Russian convoy heads into Georgia, violating...</td>\n",
       "      <td>b'Israeli defence minister: US against strike ...</td>\n",
       "      <td>b'Gorbachev: We Had No Choice'</td>\n",
       "      <td>b'Witness: Russian forces head towards Tbilisi...</td>\n",
       "      <td>b' Quarter of Russians blame U.S. for conflict...</td>\n",
       "      <td>b'Georgian president  says US military will ta...</td>\n",
       "      <td>b'2006: Nobel laureate Aleksander Solzhenitsyn...</td>\n",
       "    </tr>\n",
       "    <tr>\n",
       "      <th>4</th>\n",
       "      <td>2008-08-14</td>\n",
       "      <td>1</td>\n",
       "      <td>b'All the experts admit that we should legalis...</td>\n",
       "      <td>b'War in South Osetia - 89 pictures made by a ...</td>\n",
       "      <td>b'Swedish wrestler Ara Abrahamian throws away ...</td>\n",
       "      <td>b'Russia exaggerated the death toll in South O...</td>\n",
       "      <td>b'Missile That Killed 9 Inside Pakistan May Ha...</td>\n",
       "      <td>b\"Rushdie Condemns Random House's Refusal to P...</td>\n",
       "      <td>b'Poland and US agree to missle defense deal. ...</td>\n",
       "      <td>b'Will the Russians conquer Tblisi? Bet on it,...</td>\n",
       "      <td>...</td>\n",
       "      <td>b'Bank analyst forecast Georgian crisis 2 days...</td>\n",
       "      <td>b\"Georgia confict could set back Russia's US r...</td>\n",
       "      <td>b'War in the Caucasus is as much the product o...</td>\n",
       "      <td>b'\"Non-media\" photos of South Ossetia/Georgia ...</td>\n",
       "      <td>b'Georgian TV reporter shot by Russian sniper ...</td>\n",
       "      <td>b'Saudi Arabia: Mother moves to block child ma...</td>\n",
       "      <td>b'Taliban wages war on humanitarian aid workers'</td>\n",
       "      <td>b'Russia: World  \"can forget about\" Georgia\\'s...</td>\n",
       "      <td>b'Darfur rebels accuse Sudan of mounting major...</td>\n",
       "      <td>b'Philippines : Peace Advocate say Muslims nee...</td>\n",
       "    </tr>\n",
       "  </tbody>\n",
       "</table>\n",
       "<p>5 rows × 27 columns</p>\n",
       "</div>"
      ],
      "text/plain": [
       "         Date  Label                                               Top1  \\\n",
       "0  2008-08-08      0  b\"Georgia 'downs two Russian warplanes' as cou...   \n",
       "1  2008-08-11      1  b'Why wont America and Nato help us? If they w...   \n",
       "2  2008-08-12      0  b'Remember that adorable 9-year-old who sang a...   \n",
       "3  2008-08-13      0  b' U.S. refuses Israel weapons to attack Iran:...   \n",
       "4  2008-08-14      1  b'All the experts admit that we should legalis...   \n",
       "\n",
       "                                                Top2  \\\n",
       "0            b'BREAKING: Musharraf to be impeached.'   \n",
       "1        b'Bush puts foot down on Georgian conflict'   \n",
       "2                 b\"Russia 'ends Georgia operation'\"   \n",
       "3  b\"When the president ordered to attack Tskhinv...   \n",
       "4  b'War in South Osetia - 89 pictures made by a ...   \n",
       "\n",
       "                                                Top3  \\\n",
       "0  b'Russia Today: Columns of troops roll into So...   \n",
       "1  b\"Jewish Georgian minister: Thanks to Israeli ...   \n",
       "2  b'\"If we had no sexual harassment we would hav...   \n",
       "3  b' Israel clears troops who killed Reuters cam...   \n",
       "4  b'Swedish wrestler Ara Abrahamian throws away ...   \n",
       "\n",
       "                                                Top4  \\\n",
       "0  b'Russian tanks are moving towards the capital...   \n",
       "1  b'Georgian army flees in disarray as Russians ...   \n",
       "2  b\"Al-Qa'eda is losing support in Iraq because ...   \n",
       "3  b'Britain\\'s policy of being tough on drugs is...   \n",
       "4  b'Russia exaggerated the death toll in South O...   \n",
       "\n",
       "                                                Top5  \\\n",
       "0  b\"Afghan children raped with 'impunity,' U.N. ...   \n",
       "1      b\"Olympic opening ceremony fireworks 'faked'\"   \n",
       "2  b'Ceasefire in Georgia: Putin Outmaneuvers the...   \n",
       "3  b'Body of 14 year old found in trunk; Latest (...   \n",
       "4  b'Missile That Killed 9 Inside Pakistan May Ha...   \n",
       "\n",
       "                                                Top6  \\\n",
       "0  b'150 Russian tanks have entered South Ossetia...   \n",
       "1  b'What were the Mossad with fraudulent New Zea...   \n",
       "2  b'Why Microsoft and Intel tried to kill the XO...   \n",
       "3  b'China has moved 10 *million* quake survivors...   \n",
       "4  b\"Rushdie Condemns Random House's Refusal to P...   \n",
       "\n",
       "                                                Top7  \\\n",
       "0  b\"Breaking: Georgia invades South Ossetia, Rus...   \n",
       "1  b'Russia angered by Israeli military sale to G...   \n",
       "2  b'Stratfor: The Russo-Georgian War and the Bal...   \n",
       "3  b\"Bush announces Operation Get All Up In Russi...   \n",
       "4  b'Poland and US agree to missle defense deal. ...   \n",
       "\n",
       "                                                Top8  \\\n",
       "0  b\"The 'enemy combatent' trials are nothing but...   \n",
       "1  b'An American citizen living in S.Ossetia blam...   \n",
       "2  b\"I'm Trying to Get a Sense of This Whole Geor...   \n",
       "3             b'Russian forces sink Georgian ships '   \n",
       "4  b'Will the Russians conquer Tblisi? Bet on it,...   \n",
       "\n",
       "                         ...                          \\\n",
       "0                        ...                           \n",
       "1                        ...                           \n",
       "2                        ...                           \n",
       "3                        ...                           \n",
       "4                        ...                           \n",
       "\n",
       "                                               Top16  \\\n",
       "0  b'Georgia Invades South Ossetia - if Russia ge...   \n",
       "1  b'Israel and the US behind the Georgian aggres...   \n",
       "2  b'U.S. troops still in Georgia (did you know t...   \n",
       "3                      b'Elephants extinct by 2020?'   \n",
       "4  b'Bank analyst forecast Georgian crisis 2 days...   \n",
       "\n",
       "                                               Top17  \\\n",
       "0                b'Al-Qaeda Faces Islamist Backlash'   \n",
       "1  b'\"Do not believe TV, neither Russian nor Geor...   \n",
       "2       b'Why Russias response to Georgia was right'   \n",
       "3  b'US humanitarian missions soon in Georgia - i...   \n",
       "4  b\"Georgia confict could set back Russia's US r...   \n",
       "\n",
       "                                               Top18  \\\n",
       "0  b'Condoleezza Rice: \"The US would not act to p...   \n",
       "1  b'Riots are still going on in Montreal (Canada...   \n",
       "2  b'Gorbachev accuses U.S. of making a \"serious ...   \n",
       "3             b\"Georgia's DDOS came from US sources\"   \n",
       "4  b'War in the Caucasus is as much the product o...   \n",
       "\n",
       "                                               Top19  \\\n",
       "0  b'This is a busy day:  The European Union has ...   \n",
       "1    b'China to overtake US as largest manufacturer'   \n",
       "2         b'Russia, Georgia, and NATO: Cold War Two'   \n",
       "3  b'Russian convoy heads into Georgia, violating...   \n",
       "4  b'\"Non-media\" photos of South Ossetia/Georgia ...   \n",
       "\n",
       "                                               Top20  \\\n",
       "0  b\"Georgia will withdraw 1,000 soldiers from Ir...   \n",
       "1                     b'War in South Ossetia [PICS]'   \n",
       "2  b'Remember that adorable 62-year-old who led y...   \n",
       "3  b'Israeli defence minister: US against strike ...   \n",
       "4  b'Georgian TV reporter shot by Russian sniper ...   \n",
       "\n",
       "                                               Top21  \\\n",
       "0  b'Why the Pentagon Thinks Attacking Iran is a ...   \n",
       "1  b'Israeli Physicians Group Condemns State Tort...   \n",
       "2          b'War in Georgia: The Israeli connection'   \n",
       "3                     b'Gorbachev: We Had No Choice'   \n",
       "4  b'Saudi Arabia: Mother moves to block child ma...   \n",
       "\n",
       "                                               Top22  \\\n",
       "0  b'Caucasus in crisis: Georgia invades South Os...   \n",
       "1  b' Russia has just beaten the United States ov...   \n",
       "2  b'All signs point to the US encouraging Georgi...   \n",
       "3  b'Witness: Russian forces head towards Tbilisi...   \n",
       "4   b'Taliban wages war on humanitarian aid workers'   \n",
       "\n",
       "                                               Top23  \\\n",
       "0  b'Indian shoe manufactory  - And again in a se...   \n",
       "1  b'Perhaps *the* question about the Georgia - R...   \n",
       "2  b'Christopher King argues that the US and NATO...   \n",
       "3  b' Quarter of Russians blame U.S. for conflict...   \n",
       "4  b'Russia: World  \"can forget about\" Georgia\\'s...   \n",
       "\n",
       "                                               Top24  \\\n",
       "0  b'Visitors Suffering from Mental Illnesses Ban...   \n",
       "1                 b'Russia is so much better at war'   \n",
       "2                        b'America: The New Mexico?'   \n",
       "3  b'Georgian president  says US military will ta...   \n",
       "4  b'Darfur rebels accuse Sudan of mounting major...   \n",
       "\n",
       "                                               Top25  \n",
       "0           b\"No Help for Mexico's Kidnapping Surge\"  \n",
       "1  b\"So this is what it's come to: trading sex fo...  \n",
       "2  b\"BBC NEWS | Asia-Pacific | Extinction 'by man...  \n",
       "3  b'2006: Nobel laureate Aleksander Solzhenitsyn...  \n",
       "4  b'Philippines : Peace Advocate say Muslims nee...  \n",
       "\n",
       "[5 rows x 27 columns]"
      ]
     },
     "execution_count": 13,
     "metadata": {},
     "output_type": "execute_result"
    }
   ],
   "source": [
    "df.head()"
   ]
  },
  {
   "cell_type": "markdown",
   "metadata": {},
   "source": [
    "# Часть 1. Предобработка"
   ]
  },
  {
   "cell_type": "markdown",
   "metadata": {},
   "source": [
    "Приведем тексты к нижнему регистру, токенизируем."
   ]
  },
  {
   "cell_type": "code",
   "execution_count": 14,
   "metadata": {
    "collapsed": true
   },
   "outputs": [],
   "source": [
    "def preprocess(text_list):\n",
    "    clean_texts = []\n",
    "    for text in text_list:\n",
    "        text = text.replace('b\\'','').replace('b\"','').replace('.','')\n",
    "        words = re.findall(r'[a-z]+', text.lower()) #приводим к нижнему регистру, извлекаем слова в список\n",
    "        #tokens = ' '.join(words)\n",
    "        clean_texts.append(words) #предобработанный список\n",
    "    return clean_texts"
   ]
  },
  {
   "cell_type": "code",
   "execution_count": 15,
   "metadata": {
    "collapsed": true
   },
   "outputs": [],
   "source": [
    "clean = preprocess(df['Top1'].astype(str))"
   ]
  },
  {
   "cell_type": "code",
   "execution_count": 53,
   "metadata": {
    "scrolled": true
   },
   "outputs": [
    {
     "name": "stdout",
     "output_type": "stream",
     "text": [
      "['georgia', 'downs', 'two', 'russian', 'warplanes', 'as', 'countries', 'move', 'to', 'brink', 'of', 'war']\n"
     ]
    }
   ],
   "source": [
    "print(clean[0])"
   ]
  },
  {
   "cell_type": "code",
   "execution_count": 17,
   "metadata": {
    "collapsed": true
   },
   "outputs": [],
   "source": [
    "#применим предобработку ко всем заголовкам новостей\n",
    "for column in df.loc[:,'Top1':'Top25']:\n",
    "    list = df[column].astype(str)\n",
    "    df[column] = preprocess(list)\n"
   ]
  },
  {
   "cell_type": "code",
   "execution_count": 18,
   "metadata": {
    "scrolled": true
   },
   "outputs": [
    {
     "data": {
      "text/html": [
       "<div>\n",
       "<style>\n",
       "    .dataframe thead tr:only-child th {\n",
       "        text-align: right;\n",
       "    }\n",
       "\n",
       "    .dataframe thead th {\n",
       "        text-align: left;\n",
       "    }\n",
       "\n",
       "    .dataframe tbody tr th {\n",
       "        vertical-align: top;\n",
       "    }\n",
       "</style>\n",
       "<table border=\"1\" class=\"dataframe\">\n",
       "  <thead>\n",
       "    <tr style=\"text-align: right;\">\n",
       "      <th></th>\n",
       "      <th>Date</th>\n",
       "      <th>Label</th>\n",
       "      <th>Top1</th>\n",
       "      <th>Top2</th>\n",
       "      <th>Top3</th>\n",
       "      <th>Top4</th>\n",
       "      <th>Top5</th>\n",
       "      <th>Top6</th>\n",
       "      <th>Top7</th>\n",
       "      <th>Top8</th>\n",
       "      <th>...</th>\n",
       "      <th>Top16</th>\n",
       "      <th>Top17</th>\n",
       "      <th>Top18</th>\n",
       "      <th>Top19</th>\n",
       "      <th>Top20</th>\n",
       "      <th>Top21</th>\n",
       "      <th>Top22</th>\n",
       "      <th>Top23</th>\n",
       "      <th>Top24</th>\n",
       "      <th>Top25</th>\n",
       "    </tr>\n",
       "  </thead>\n",
       "  <tbody>\n",
       "    <tr>\n",
       "      <th>0</th>\n",
       "      <td>2008-08-08</td>\n",
       "      <td>0</td>\n",
       "      <td>[georgia, downs, two, russian, warplanes, as, ...</td>\n",
       "      <td>[breaking, musharraf, to, be, impeached]</td>\n",
       "      <td>[russia, today, columns, of, troops, roll, int...</td>\n",
       "      <td>[russian, tanks, are, moving, towards, the, ca...</td>\n",
       "      <td>[afghan, children, raped, with, impunity, un, ...</td>\n",
       "      <td>[russian, tanks, have, entered, south, ossetia...</td>\n",
       "      <td>[breaking, georgia, invades, south, ossetia, r...</td>\n",
       "      <td>[the, enemy, combatent, trials, are, nothing, ...</td>\n",
       "      <td>...</td>\n",
       "      <td>[georgia, invades, south, ossetia, if, russia,...</td>\n",
       "      <td>[al, qaeda, faces, islamist, backlash]</td>\n",
       "      <td>[condoleezza, rice, the, us, would, not, act, ...</td>\n",
       "      <td>[this, is, a, busy, day, the, european, union,...</td>\n",
       "      <td>[georgia, will, withdraw, soldiers, from, iraq...</td>\n",
       "      <td>[why, the, pentagon, thinks, attacking, iran, ...</td>\n",
       "      <td>[caucasus, in, crisis, georgia, invades, south...</td>\n",
       "      <td>[indian, shoe, manufactory, and, again, in, a,...</td>\n",
       "      <td>[visitors, suffering, from, mental, illnesses,...</td>\n",
       "      <td>[no, help, for, mexico, s, kidnapping, surge]</td>\n",
       "    </tr>\n",
       "    <tr>\n",
       "      <th>1</th>\n",
       "      <td>2008-08-11</td>\n",
       "      <td>1</td>\n",
       "      <td>[why, wont, america, and, nato, help, us, if, ...</td>\n",
       "      <td>[bush, puts, foot, down, on, georgian, conflict]</td>\n",
       "      <td>[jewish, georgian, minister, thanks, to, israe...</td>\n",
       "      <td>[georgian, army, flees, in, disarray, as, russ...</td>\n",
       "      <td>[olympic, opening, ceremony, fireworks, faked]</td>\n",
       "      <td>[what, were, the, mossad, with, fraudulent, ne...</td>\n",
       "      <td>[russia, angered, by, israeli, military, sale,...</td>\n",
       "      <td>[an, american, citizen, living, in, sossetia, ...</td>\n",
       "      <td>...</td>\n",
       "      <td>[israel, and, the, us, behind, the, georgian, ...</td>\n",
       "      <td>[do, not, believe, tv, neither, russian, nor, ...</td>\n",
       "      <td>[riots, are, still, going, on, in, montreal, c...</td>\n",
       "      <td>[china, to, overtake, us, as, largest, manufac...</td>\n",
       "      <td>[war, in, south, ossetia, pics]</td>\n",
       "      <td>[israeli, physicians, group, condemns, state, ...</td>\n",
       "      <td>[russia, has, just, beaten, the, united, state...</td>\n",
       "      <td>[perhaps, the, question, about, the, georgia, ...</td>\n",
       "      <td>[russia, is, so, much, better, at, war]</td>\n",
       "      <td>[so, this, is, what, it, s, come, to, trading,...</td>\n",
       "    </tr>\n",
       "    <tr>\n",
       "      <th>2</th>\n",
       "      <td>2008-08-12</td>\n",
       "      <td>0</td>\n",
       "      <td>[remember, that, adorable, year, old, who, san...</td>\n",
       "      <td>[russia, ends, georgia, operation]</td>\n",
       "      <td>[if, we, had, no, sexual, harassment, we, woul...</td>\n",
       "      <td>[al, qa, eda, is, losing, support, in, iraq, b...</td>\n",
       "      <td>[ceasefire, in, georgia, putin, outmaneuvers, ...</td>\n",
       "      <td>[why, microsoft, and, intel, tried, to, kill, ...</td>\n",
       "      <td>[stratfor, the, russo, georgian, war, and, the...</td>\n",
       "      <td>[i, m, trying, to, get, a, sense, of, this, wh...</td>\n",
       "      <td>...</td>\n",
       "      <td>[us, troops, still, in, georgia, did, you, kno...</td>\n",
       "      <td>[why, russias, response, to, georgia, was, right]</td>\n",
       "      <td>[gorbachev, accuses, us, of, making, a, seriou...</td>\n",
       "      <td>[russia, georgia, and, nato, cold, war, two]</td>\n",
       "      <td>[remember, that, adorable, year, old, who, led...</td>\n",
       "      <td>[war, in, georgia, the, israeli, connection]</td>\n",
       "      <td>[all, signs, point, to, the, us, encouraging, ...</td>\n",
       "      <td>[christopher, king, argues, that, the, us, and...</td>\n",
       "      <td>[america, the, new, mexico]</td>\n",
       "      <td>[bbc, news, asia, pacific, extinction, by, man...</td>\n",
       "    </tr>\n",
       "    <tr>\n",
       "      <th>3</th>\n",
       "      <td>2008-08-13</td>\n",
       "      <td>0</td>\n",
       "      <td>[us, refuses, israel, weapons, to, attack, ira...</td>\n",
       "      <td>[when, the, president, ordered, to, attack, ts...</td>\n",
       "      <td>[israel, clears, troops, who, killed, reuters,...</td>\n",
       "      <td>[britain, s, policy, of, being, tough, on, dru...</td>\n",
       "      <td>[body, of, year, old, found, in, trunk, latest...</td>\n",
       "      <td>[china, has, moved, million, quake, survivors,...</td>\n",
       "      <td>[bush, announces, operation, get, all, up, in,...</td>\n",
       "      <td>[russian, forces, sink, georgian, ships]</td>\n",
       "      <td>...</td>\n",
       "      <td>[elephants, extinct, by]</td>\n",
       "      <td>[us, humanitarian, missions, soon, in, georgia...</td>\n",
       "      <td>[georgia, s, ddos, came, from, us, sources]</td>\n",
       "      <td>[russian, convoy, heads, into, georgia, violat...</td>\n",
       "      <td>[israeli, defence, minister, us, against, stri...</td>\n",
       "      <td>[gorbachev, we, had, no, choice]</td>\n",
       "      <td>[witness, russian, forces, head, towards, tbil...</td>\n",
       "      <td>[quarter, of, russians, blame, us, for, confli...</td>\n",
       "      <td>[georgian, president, says, us, military, will...</td>\n",
       "      <td>[nobel, laureate, aleksander, solzhenitsyn, ac...</td>\n",
       "    </tr>\n",
       "    <tr>\n",
       "      <th>4</th>\n",
       "      <td>2008-08-14</td>\n",
       "      <td>1</td>\n",
       "      <td>[all, the, experts, admit, that, we, should, l...</td>\n",
       "      <td>[war, in, south, osetia, pictures, made, by, a...</td>\n",
       "      <td>[swedish, wrestler, ara, abrahamian, throws, a...</td>\n",
       "      <td>[russia, exaggerated, the, death, toll, in, so...</td>\n",
       "      <td>[missile, that, killed, inside, pakistan, may,...</td>\n",
       "      <td>[rushdie, condemns, random, house, s, refusal,...</td>\n",
       "      <td>[poland, and, us, agree, to, missle, defense, ...</td>\n",
       "      <td>[will, the, russians, conquer, tblisi, bet, on...</td>\n",
       "      <td>...</td>\n",
       "      <td>[bank, analyst, forecast, georgian, crisis, da...</td>\n",
       "      <td>[georgia, confict, could, set, back, russia, s...</td>\n",
       "      <td>[war, in, the, caucasus, is, as, much, the, pr...</td>\n",
       "      <td>[non, media, photos, of, south, ossetia, georg...</td>\n",
       "      <td>[georgian, tv, reporter, shot, by, russian, sn...</td>\n",
       "      <td>[saudi, arabia, mother, moves, to, block, chil...</td>\n",
       "      <td>[taliban, wages, war, on, humanitarian, aid, w...</td>\n",
       "      <td>[russia, world, can, forget, about, georgia, s...</td>\n",
       "      <td>[darfur, rebels, accuse, sudan, of, mounting, ...</td>\n",
       "      <td>[philippines, peace, advocate, say, muslims, n...</td>\n",
       "    </tr>\n",
       "  </tbody>\n",
       "</table>\n",
       "<p>5 rows × 27 columns</p>\n",
       "</div>"
      ],
      "text/plain": [
       "         Date  Label                                               Top1  \\\n",
       "0  2008-08-08      0  [georgia, downs, two, russian, warplanes, as, ...   \n",
       "1  2008-08-11      1  [why, wont, america, and, nato, help, us, if, ...   \n",
       "2  2008-08-12      0  [remember, that, adorable, year, old, who, san...   \n",
       "3  2008-08-13      0  [us, refuses, israel, weapons, to, attack, ira...   \n",
       "4  2008-08-14      1  [all, the, experts, admit, that, we, should, l...   \n",
       "\n",
       "                                                Top2  \\\n",
       "0           [breaking, musharraf, to, be, impeached]   \n",
       "1   [bush, puts, foot, down, on, georgian, conflict]   \n",
       "2                 [russia, ends, georgia, operation]   \n",
       "3  [when, the, president, ordered, to, attack, ts...   \n",
       "4  [war, in, south, osetia, pictures, made, by, a...   \n",
       "\n",
       "                                                Top3  \\\n",
       "0  [russia, today, columns, of, troops, roll, int...   \n",
       "1  [jewish, georgian, minister, thanks, to, israe...   \n",
       "2  [if, we, had, no, sexual, harassment, we, woul...   \n",
       "3  [israel, clears, troops, who, killed, reuters,...   \n",
       "4  [swedish, wrestler, ara, abrahamian, throws, a...   \n",
       "\n",
       "                                                Top4  \\\n",
       "0  [russian, tanks, are, moving, towards, the, ca...   \n",
       "1  [georgian, army, flees, in, disarray, as, russ...   \n",
       "2  [al, qa, eda, is, losing, support, in, iraq, b...   \n",
       "3  [britain, s, policy, of, being, tough, on, dru...   \n",
       "4  [russia, exaggerated, the, death, toll, in, so...   \n",
       "\n",
       "                                                Top5  \\\n",
       "0  [afghan, children, raped, with, impunity, un, ...   \n",
       "1     [olympic, opening, ceremony, fireworks, faked]   \n",
       "2  [ceasefire, in, georgia, putin, outmaneuvers, ...   \n",
       "3  [body, of, year, old, found, in, trunk, latest...   \n",
       "4  [missile, that, killed, inside, pakistan, may,...   \n",
       "\n",
       "                                                Top6  \\\n",
       "0  [russian, tanks, have, entered, south, ossetia...   \n",
       "1  [what, were, the, mossad, with, fraudulent, ne...   \n",
       "2  [why, microsoft, and, intel, tried, to, kill, ...   \n",
       "3  [china, has, moved, million, quake, survivors,...   \n",
       "4  [rushdie, condemns, random, house, s, refusal,...   \n",
       "\n",
       "                                                Top7  \\\n",
       "0  [breaking, georgia, invades, south, ossetia, r...   \n",
       "1  [russia, angered, by, israeli, military, sale,...   \n",
       "2  [stratfor, the, russo, georgian, war, and, the...   \n",
       "3  [bush, announces, operation, get, all, up, in,...   \n",
       "4  [poland, and, us, agree, to, missle, defense, ...   \n",
       "\n",
       "                                                Top8  \\\n",
       "0  [the, enemy, combatent, trials, are, nothing, ...   \n",
       "1  [an, american, citizen, living, in, sossetia, ...   \n",
       "2  [i, m, trying, to, get, a, sense, of, this, wh...   \n",
       "3           [russian, forces, sink, georgian, ships]   \n",
       "4  [will, the, russians, conquer, tblisi, bet, on...   \n",
       "\n",
       "                         ...                          \\\n",
       "0                        ...                           \n",
       "1                        ...                           \n",
       "2                        ...                           \n",
       "3                        ...                           \n",
       "4                        ...                           \n",
       "\n",
       "                                               Top16  \\\n",
       "0  [georgia, invades, south, ossetia, if, russia,...   \n",
       "1  [israel, and, the, us, behind, the, georgian, ...   \n",
       "2  [us, troops, still, in, georgia, did, you, kno...   \n",
       "3                           [elephants, extinct, by]   \n",
       "4  [bank, analyst, forecast, georgian, crisis, da...   \n",
       "\n",
       "                                               Top17  \\\n",
       "0             [al, qaeda, faces, islamist, backlash]   \n",
       "1  [do, not, believe, tv, neither, russian, nor, ...   \n",
       "2  [why, russias, response, to, georgia, was, right]   \n",
       "3  [us, humanitarian, missions, soon, in, georgia...   \n",
       "4  [georgia, confict, could, set, back, russia, s...   \n",
       "\n",
       "                                               Top18  \\\n",
       "0  [condoleezza, rice, the, us, would, not, act, ...   \n",
       "1  [riots, are, still, going, on, in, montreal, c...   \n",
       "2  [gorbachev, accuses, us, of, making, a, seriou...   \n",
       "3        [georgia, s, ddos, came, from, us, sources]   \n",
       "4  [war, in, the, caucasus, is, as, much, the, pr...   \n",
       "\n",
       "                                               Top19  \\\n",
       "0  [this, is, a, busy, day, the, european, union,...   \n",
       "1  [china, to, overtake, us, as, largest, manufac...   \n",
       "2       [russia, georgia, and, nato, cold, war, two]   \n",
       "3  [russian, convoy, heads, into, georgia, violat...   \n",
       "4  [non, media, photos, of, south, ossetia, georg...   \n",
       "\n",
       "                                               Top20  \\\n",
       "0  [georgia, will, withdraw, soldiers, from, iraq...   \n",
       "1                    [war, in, south, ossetia, pics]   \n",
       "2  [remember, that, adorable, year, old, who, led...   \n",
       "3  [israeli, defence, minister, us, against, stri...   \n",
       "4  [georgian, tv, reporter, shot, by, russian, sn...   \n",
       "\n",
       "                                               Top21  \\\n",
       "0  [why, the, pentagon, thinks, attacking, iran, ...   \n",
       "1  [israeli, physicians, group, condemns, state, ...   \n",
       "2       [war, in, georgia, the, israeli, connection]   \n",
       "3                   [gorbachev, we, had, no, choice]   \n",
       "4  [saudi, arabia, mother, moves, to, block, chil...   \n",
       "\n",
       "                                               Top22  \\\n",
       "0  [caucasus, in, crisis, georgia, invades, south...   \n",
       "1  [russia, has, just, beaten, the, united, state...   \n",
       "2  [all, signs, point, to, the, us, encouraging, ...   \n",
       "3  [witness, russian, forces, head, towards, tbil...   \n",
       "4  [taliban, wages, war, on, humanitarian, aid, w...   \n",
       "\n",
       "                                               Top23  \\\n",
       "0  [indian, shoe, manufactory, and, again, in, a,...   \n",
       "1  [perhaps, the, question, about, the, georgia, ...   \n",
       "2  [christopher, king, argues, that, the, us, and...   \n",
       "3  [quarter, of, russians, blame, us, for, confli...   \n",
       "4  [russia, world, can, forget, about, georgia, s...   \n",
       "\n",
       "                                               Top24  \\\n",
       "0  [visitors, suffering, from, mental, illnesses,...   \n",
       "1            [russia, is, so, much, better, at, war]   \n",
       "2                        [america, the, new, mexico]   \n",
       "3  [georgian, president, says, us, military, will...   \n",
       "4  [darfur, rebels, accuse, sudan, of, mounting, ...   \n",
       "\n",
       "                                               Top25  \n",
       "0      [no, help, for, mexico, s, kidnapping, surge]  \n",
       "1  [so, this, is, what, it, s, come, to, trading,...  \n",
       "2  [bbc, news, asia, pacific, extinction, by, man...  \n",
       "3  [nobel, laureate, aleksander, solzhenitsyn, ac...  \n",
       "4  [philippines, peace, advocate, say, muslims, n...  \n",
       "\n",
       "[5 rows x 27 columns]"
      ]
     },
     "execution_count": 18,
     "metadata": {},
     "output_type": "execute_result"
    }
   ],
   "source": [
    "df.head()"
   ]
  },
  {
   "cell_type": "markdown",
   "metadata": {},
   "source": [
    "## 1. Есть ли корреляция между средней длинной текста за день и DJIA?"
   ]
  },
  {
   "cell_type": "markdown",
   "metadata": {},
   "source": [
    "Посчитаем среднюю длину текста"
   ]
  },
  {
   "cell_type": "code",
   "execution_count": 20,
   "metadata": {
    "collapsed": true
   },
   "outputs": [],
   "source": [
    "#добавим новый столбец для средней длины текста новостей\n",
    "df['MeanLength'] = df.drop(['Date','Label'], axis = 1).apply(lambda x: x.str.len()).mean(axis = 1) "
   ]
  },
  {
   "cell_type": "code",
   "execution_count": 21,
   "metadata": {
    "scrolled": true
   },
   "outputs": [
    {
     "data": {
      "text/html": [
       "<div>\n",
       "<style>\n",
       "    .dataframe thead tr:only-child th {\n",
       "        text-align: right;\n",
       "    }\n",
       "\n",
       "    .dataframe thead th {\n",
       "        text-align: left;\n",
       "    }\n",
       "\n",
       "    .dataframe tbody tr th {\n",
       "        vertical-align: top;\n",
       "    }\n",
       "</style>\n",
       "<table border=\"1\" class=\"dataframe\">\n",
       "  <thead>\n",
       "    <tr style=\"text-align: right;\">\n",
       "      <th></th>\n",
       "      <th>Date</th>\n",
       "      <th>Label</th>\n",
       "      <th>Top1</th>\n",
       "      <th>Top2</th>\n",
       "      <th>Top3</th>\n",
       "      <th>Top4</th>\n",
       "      <th>Top5</th>\n",
       "      <th>Top6</th>\n",
       "      <th>Top7</th>\n",
       "      <th>Top8</th>\n",
       "      <th>...</th>\n",
       "      <th>Top17</th>\n",
       "      <th>Top18</th>\n",
       "      <th>Top19</th>\n",
       "      <th>Top20</th>\n",
       "      <th>Top21</th>\n",
       "      <th>Top22</th>\n",
       "      <th>Top23</th>\n",
       "      <th>Top24</th>\n",
       "      <th>Top25</th>\n",
       "      <th>MeanLength</th>\n",
       "    </tr>\n",
       "  </thead>\n",
       "  <tbody>\n",
       "    <tr>\n",
       "      <th>0</th>\n",
       "      <td>2008-08-08</td>\n",
       "      <td>0</td>\n",
       "      <td>[georgia, downs, two, russian, warplanes, as, ...</td>\n",
       "      <td>[breaking, musharraf, to, be, impeached]</td>\n",
       "      <td>[russia, today, columns, of, troops, roll, int...</td>\n",
       "      <td>[russian, tanks, are, moving, towards, the, ca...</td>\n",
       "      <td>[afghan, children, raped, with, impunity, un, ...</td>\n",
       "      <td>[russian, tanks, have, entered, south, ossetia...</td>\n",
       "      <td>[breaking, georgia, invades, south, ossetia, r...</td>\n",
       "      <td>[the, enemy, combatent, trials, are, nothing, ...</td>\n",
       "      <td>...</td>\n",
       "      <td>[al, qaeda, faces, islamist, backlash]</td>\n",
       "      <td>[condoleezza, rice, the, us, would, not, act, ...</td>\n",
       "      <td>[this, is, a, busy, day, the, european, union,...</td>\n",
       "      <td>[georgia, will, withdraw, soldiers, from, iraq...</td>\n",
       "      <td>[why, the, pentagon, thinks, attacking, iran, ...</td>\n",
       "      <td>[caucasus, in, crisis, georgia, invades, south...</td>\n",
       "      <td>[indian, shoe, manufactory, and, again, in, a,...</td>\n",
       "      <td>[visitors, suffering, from, mental, illnesses,...</td>\n",
       "      <td>[no, help, for, mexico, s, kidnapping, surge]</td>\n",
       "      <td>14.92</td>\n",
       "    </tr>\n",
       "    <tr>\n",
       "      <th>1</th>\n",
       "      <td>2008-08-11</td>\n",
       "      <td>1</td>\n",
       "      <td>[why, wont, america, and, nato, help, us, if, ...</td>\n",
       "      <td>[bush, puts, foot, down, on, georgian, conflict]</td>\n",
       "      <td>[jewish, georgian, minister, thanks, to, israe...</td>\n",
       "      <td>[georgian, army, flees, in, disarray, as, russ...</td>\n",
       "      <td>[olympic, opening, ceremony, fireworks, faked]</td>\n",
       "      <td>[what, were, the, mossad, with, fraudulent, ne...</td>\n",
       "      <td>[russia, angered, by, israeli, military, sale,...</td>\n",
       "      <td>[an, american, citizen, living, in, sossetia, ...</td>\n",
       "      <td>...</td>\n",
       "      <td>[do, not, believe, tv, neither, russian, nor, ...</td>\n",
       "      <td>[riots, are, still, going, on, in, montreal, c...</td>\n",
       "      <td>[china, to, overtake, us, as, largest, manufac...</td>\n",
       "      <td>[war, in, south, ossetia, pics]</td>\n",
       "      <td>[israeli, physicians, group, condemns, state, ...</td>\n",
       "      <td>[russia, has, just, beaten, the, united, state...</td>\n",
       "      <td>[perhaps, the, question, about, the, georgia, ...</td>\n",
       "      <td>[russia, is, so, much, better, at, war]</td>\n",
       "      <td>[so, this, is, what, it, s, come, to, trading,...</td>\n",
       "      <td>10.76</td>\n",
       "    </tr>\n",
       "    <tr>\n",
       "      <th>2</th>\n",
       "      <td>2008-08-12</td>\n",
       "      <td>0</td>\n",
       "      <td>[remember, that, adorable, year, old, who, san...</td>\n",
       "      <td>[russia, ends, georgia, operation]</td>\n",
       "      <td>[if, we, had, no, sexual, harassment, we, woul...</td>\n",
       "      <td>[al, qa, eda, is, losing, support, in, iraq, b...</td>\n",
       "      <td>[ceasefire, in, georgia, putin, outmaneuvers, ...</td>\n",
       "      <td>[why, microsoft, and, intel, tried, to, kill, ...</td>\n",
       "      <td>[stratfor, the, russo, georgian, war, and, the...</td>\n",
       "      <td>[i, m, trying, to, get, a, sense, of, this, wh...</td>\n",
       "      <td>...</td>\n",
       "      <td>[why, russias, response, to, georgia, was, right]</td>\n",
       "      <td>[gorbachev, accuses, us, of, making, a, seriou...</td>\n",
       "      <td>[russia, georgia, and, nato, cold, war, two]</td>\n",
       "      <td>[remember, that, adorable, year, old, who, led...</td>\n",
       "      <td>[war, in, georgia, the, israeli, connection]</td>\n",
       "      <td>[all, signs, point, to, the, us, encouraging, ...</td>\n",
       "      <td>[christopher, king, argues, that, the, us, and...</td>\n",
       "      <td>[america, the, new, mexico]</td>\n",
       "      <td>[bbc, news, asia, pacific, extinction, by, man...</td>\n",
       "      <td>14.12</td>\n",
       "    </tr>\n",
       "    <tr>\n",
       "      <th>3</th>\n",
       "      <td>2008-08-13</td>\n",
       "      <td>0</td>\n",
       "      <td>[us, refuses, israel, weapons, to, attack, ira...</td>\n",
       "      <td>[when, the, president, ordered, to, attack, ts...</td>\n",
       "      <td>[israel, clears, troops, who, killed, reuters,...</td>\n",
       "      <td>[britain, s, policy, of, being, tough, on, dru...</td>\n",
       "      <td>[body, of, year, old, found, in, trunk, latest...</td>\n",
       "      <td>[china, has, moved, million, quake, survivors,...</td>\n",
       "      <td>[bush, announces, operation, get, all, up, in,...</td>\n",
       "      <td>[russian, forces, sink, georgian, ships]</td>\n",
       "      <td>...</td>\n",
       "      <td>[us, humanitarian, missions, soon, in, georgia...</td>\n",
       "      <td>[georgia, s, ddos, came, from, us, sources]</td>\n",
       "      <td>[russian, convoy, heads, into, georgia, violat...</td>\n",
       "      <td>[israeli, defence, minister, us, against, stri...</td>\n",
       "      <td>[gorbachev, we, had, no, choice]</td>\n",
       "      <td>[witness, russian, forces, head, towards, tbil...</td>\n",
       "      <td>[quarter, of, russians, blame, us, for, confli...</td>\n",
       "      <td>[georgian, president, says, us, military, will...</td>\n",
       "      <td>[nobel, laureate, aleksander, solzhenitsyn, ac...</td>\n",
       "      <td>12.44</td>\n",
       "    </tr>\n",
       "    <tr>\n",
       "      <th>4</th>\n",
       "      <td>2008-08-14</td>\n",
       "      <td>1</td>\n",
       "      <td>[all, the, experts, admit, that, we, should, l...</td>\n",
       "      <td>[war, in, south, osetia, pictures, made, by, a...</td>\n",
       "      <td>[swedish, wrestler, ara, abrahamian, throws, a...</td>\n",
       "      <td>[russia, exaggerated, the, death, toll, in, so...</td>\n",
       "      <td>[missile, that, killed, inside, pakistan, may,...</td>\n",
       "      <td>[rushdie, condemns, random, house, s, refusal,...</td>\n",
       "      <td>[poland, and, us, agree, to, missle, defense, ...</td>\n",
       "      <td>[will, the, russians, conquer, tblisi, bet, on...</td>\n",
       "      <td>...</td>\n",
       "      <td>[georgia, confict, could, set, back, russia, s...</td>\n",
       "      <td>[war, in, the, caucasus, is, as, much, the, pr...</td>\n",
       "      <td>[non, media, photos, of, south, ossetia, georg...</td>\n",
       "      <td>[georgian, tv, reporter, shot, by, russian, sn...</td>\n",
       "      <td>[saudi, arabia, mother, moves, to, block, chil...</td>\n",
       "      <td>[taliban, wages, war, on, humanitarian, aid, w...</td>\n",
       "      <td>[russia, world, can, forget, about, georgia, s...</td>\n",
       "      <td>[darfur, rebels, accuse, sudan, of, mounting, ...</td>\n",
       "      <td>[philippines, peace, advocate, say, muslims, n...</td>\n",
       "      <td>10.88</td>\n",
       "    </tr>\n",
       "  </tbody>\n",
       "</table>\n",
       "<p>5 rows × 28 columns</p>\n",
       "</div>"
      ],
      "text/plain": [
       "         Date  Label                                               Top1  \\\n",
       "0  2008-08-08      0  [georgia, downs, two, russian, warplanes, as, ...   \n",
       "1  2008-08-11      1  [why, wont, america, and, nato, help, us, if, ...   \n",
       "2  2008-08-12      0  [remember, that, adorable, year, old, who, san...   \n",
       "3  2008-08-13      0  [us, refuses, israel, weapons, to, attack, ira...   \n",
       "4  2008-08-14      1  [all, the, experts, admit, that, we, should, l...   \n",
       "\n",
       "                                                Top2  \\\n",
       "0           [breaking, musharraf, to, be, impeached]   \n",
       "1   [bush, puts, foot, down, on, georgian, conflict]   \n",
       "2                 [russia, ends, georgia, operation]   \n",
       "3  [when, the, president, ordered, to, attack, ts...   \n",
       "4  [war, in, south, osetia, pictures, made, by, a...   \n",
       "\n",
       "                                                Top3  \\\n",
       "0  [russia, today, columns, of, troops, roll, int...   \n",
       "1  [jewish, georgian, minister, thanks, to, israe...   \n",
       "2  [if, we, had, no, sexual, harassment, we, woul...   \n",
       "3  [israel, clears, troops, who, killed, reuters,...   \n",
       "4  [swedish, wrestler, ara, abrahamian, throws, a...   \n",
       "\n",
       "                                                Top4  \\\n",
       "0  [russian, tanks, are, moving, towards, the, ca...   \n",
       "1  [georgian, army, flees, in, disarray, as, russ...   \n",
       "2  [al, qa, eda, is, losing, support, in, iraq, b...   \n",
       "3  [britain, s, policy, of, being, tough, on, dru...   \n",
       "4  [russia, exaggerated, the, death, toll, in, so...   \n",
       "\n",
       "                                                Top5  \\\n",
       "0  [afghan, children, raped, with, impunity, un, ...   \n",
       "1     [olympic, opening, ceremony, fireworks, faked]   \n",
       "2  [ceasefire, in, georgia, putin, outmaneuvers, ...   \n",
       "3  [body, of, year, old, found, in, trunk, latest...   \n",
       "4  [missile, that, killed, inside, pakistan, may,...   \n",
       "\n",
       "                                                Top6  \\\n",
       "0  [russian, tanks, have, entered, south, ossetia...   \n",
       "1  [what, were, the, mossad, with, fraudulent, ne...   \n",
       "2  [why, microsoft, and, intel, tried, to, kill, ...   \n",
       "3  [china, has, moved, million, quake, survivors,...   \n",
       "4  [rushdie, condemns, random, house, s, refusal,...   \n",
       "\n",
       "                                                Top7  \\\n",
       "0  [breaking, georgia, invades, south, ossetia, r...   \n",
       "1  [russia, angered, by, israeli, military, sale,...   \n",
       "2  [stratfor, the, russo, georgian, war, and, the...   \n",
       "3  [bush, announces, operation, get, all, up, in,...   \n",
       "4  [poland, and, us, agree, to, missle, defense, ...   \n",
       "\n",
       "                                                Top8    ...      \\\n",
       "0  [the, enemy, combatent, trials, are, nothing, ...    ...       \n",
       "1  [an, american, citizen, living, in, sossetia, ...    ...       \n",
       "2  [i, m, trying, to, get, a, sense, of, this, wh...    ...       \n",
       "3           [russian, forces, sink, georgian, ships]    ...       \n",
       "4  [will, the, russians, conquer, tblisi, bet, on...    ...       \n",
       "\n",
       "                                               Top17  \\\n",
       "0             [al, qaeda, faces, islamist, backlash]   \n",
       "1  [do, not, believe, tv, neither, russian, nor, ...   \n",
       "2  [why, russias, response, to, georgia, was, right]   \n",
       "3  [us, humanitarian, missions, soon, in, georgia...   \n",
       "4  [georgia, confict, could, set, back, russia, s...   \n",
       "\n",
       "                                               Top18  \\\n",
       "0  [condoleezza, rice, the, us, would, not, act, ...   \n",
       "1  [riots, are, still, going, on, in, montreal, c...   \n",
       "2  [gorbachev, accuses, us, of, making, a, seriou...   \n",
       "3        [georgia, s, ddos, came, from, us, sources]   \n",
       "4  [war, in, the, caucasus, is, as, much, the, pr...   \n",
       "\n",
       "                                               Top19  \\\n",
       "0  [this, is, a, busy, day, the, european, union,...   \n",
       "1  [china, to, overtake, us, as, largest, manufac...   \n",
       "2       [russia, georgia, and, nato, cold, war, two]   \n",
       "3  [russian, convoy, heads, into, georgia, violat...   \n",
       "4  [non, media, photos, of, south, ossetia, georg...   \n",
       "\n",
       "                                               Top20  \\\n",
       "0  [georgia, will, withdraw, soldiers, from, iraq...   \n",
       "1                    [war, in, south, ossetia, pics]   \n",
       "2  [remember, that, adorable, year, old, who, led...   \n",
       "3  [israeli, defence, minister, us, against, stri...   \n",
       "4  [georgian, tv, reporter, shot, by, russian, sn...   \n",
       "\n",
       "                                               Top21  \\\n",
       "0  [why, the, pentagon, thinks, attacking, iran, ...   \n",
       "1  [israeli, physicians, group, condemns, state, ...   \n",
       "2       [war, in, georgia, the, israeli, connection]   \n",
       "3                   [gorbachev, we, had, no, choice]   \n",
       "4  [saudi, arabia, mother, moves, to, block, chil...   \n",
       "\n",
       "                                               Top22  \\\n",
       "0  [caucasus, in, crisis, georgia, invades, south...   \n",
       "1  [russia, has, just, beaten, the, united, state...   \n",
       "2  [all, signs, point, to, the, us, encouraging, ...   \n",
       "3  [witness, russian, forces, head, towards, tbil...   \n",
       "4  [taliban, wages, war, on, humanitarian, aid, w...   \n",
       "\n",
       "                                               Top23  \\\n",
       "0  [indian, shoe, manufactory, and, again, in, a,...   \n",
       "1  [perhaps, the, question, about, the, georgia, ...   \n",
       "2  [christopher, king, argues, that, the, us, and...   \n",
       "3  [quarter, of, russians, blame, us, for, confli...   \n",
       "4  [russia, world, can, forget, about, georgia, s...   \n",
       "\n",
       "                                               Top24  \\\n",
       "0  [visitors, suffering, from, mental, illnesses,...   \n",
       "1            [russia, is, so, much, better, at, war]   \n",
       "2                        [america, the, new, mexico]   \n",
       "3  [georgian, president, says, us, military, will...   \n",
       "4  [darfur, rebels, accuse, sudan, of, mounting, ...   \n",
       "\n",
       "                                               Top25 MeanLength  \n",
       "0      [no, help, for, mexico, s, kidnapping, surge]      14.92  \n",
       "1  [so, this, is, what, it, s, come, to, trading,...      10.76  \n",
       "2  [bbc, news, asia, pacific, extinction, by, man...      14.12  \n",
       "3  [nobel, laureate, aleksander, solzhenitsyn, ac...      12.44  \n",
       "4  [philippines, peace, advocate, say, muslims, n...      10.88  \n",
       "\n",
       "[5 rows x 28 columns]"
      ]
     },
     "execution_count": 21,
     "metadata": {},
     "output_type": "execute_result"
    }
   ],
   "source": [
    "df.head()"
   ]
  },
  {
   "cell_type": "markdown",
   "metadata": {},
   "source": [
    "### Корреляция между индексом и средней длиной новостей за день"
   ]
  },
  {
   "cell_type": "markdown",
   "metadata": {},
   "source": [
    "Для расчета корреляции между двумя векторами будем использовать коэффициент корреляции Пирсона из модуля scipy.stats."
   ]
  },
  {
   "cell_type": "code",
   "execution_count": 22,
   "metadata": {
    "collapsed": true
   },
   "outputs": [],
   "source": [
    "import scipy\n",
    "from scipy.stats import pearsonr"
   ]
  },
  {
   "cell_type": "code",
   "execution_count": 23,
   "metadata": {},
   "outputs": [
    {
     "data": {
      "text/plain": [
       "(-0.00484854307754869, 0.82890850592959198)"
      ]
     },
     "execution_count": 23,
     "metadata": {},
     "output_type": "execute_result"
    }
   ],
   "source": [
    "pearsonr(df.MeanLength, df.Label)"
   ]
  },
  {
   "cell_type": "markdown",
   "metadata": {},
   "source": [
    "Коэффициент корреляции близок к 0, p-value большое, следовательно, с большой вероятностью средняя длина текста и изменение значения индекса независимы. "
   ]
  },
  {
   "cell_type": "markdown",
   "metadata": {},
   "source": [
    "## 2. Есть ли корреляция между количеством упоминаний Барака Обамы и США в день и DJIA?"
   ]
  },
  {
   "cell_type": "code",
   "execution_count": 24,
   "metadata": {
    "collapsed": true
   },
   "outputs": [],
   "source": [
    "from collections import Counter"
   ]
  },
  {
   "cell_type": "code",
   "execution_count": 25,
   "metadata": {
    "collapsed": true
   },
   "outputs": [],
   "source": [
    "#функция для подсчета количества упоминаний США и Барака Обамы в списке текстов\n",
    "def count_features(text_list, features):\n",
    "    count = 0\n",
    "    for text in text_list:\n",
    "        c = Counter(text)\n",
    "        for feature in features:\n",
    "            count += c[feature]\n",
    "    return count"
   ]
  },
  {
   "cell_type": "code",
   "execution_count": 26,
   "metadata": {
    "collapsed": true
   },
   "outputs": [],
   "source": [
    "features = ['us', 'usa', 'america', 'obama']#учтем различные варианты написания США\n",
    "#count_features(df['Top3'], features)"
   ]
  },
  {
   "cell_type": "code",
   "execution_count": 27,
   "metadata": {
    "collapsed": true
   },
   "outputs": [],
   "source": [
    "#добавим колонку с количеством упоминаний США и Обамы в день\n",
    "df['CountUS'] = df.drop(['Date','Label', 'MeanLength'], axis = 1).apply(lambda x: count_features(x, features), axis = 1)"
   ]
  },
  {
   "cell_type": "code",
   "execution_count": 28,
   "metadata": {
    "scrolled": true
   },
   "outputs": [
    {
     "data": {
      "text/html": [
       "<div>\n",
       "<style>\n",
       "    .dataframe thead tr:only-child th {\n",
       "        text-align: right;\n",
       "    }\n",
       "\n",
       "    .dataframe thead th {\n",
       "        text-align: left;\n",
       "    }\n",
       "\n",
       "    .dataframe tbody tr th {\n",
       "        vertical-align: top;\n",
       "    }\n",
       "</style>\n",
       "<table border=\"1\" class=\"dataframe\">\n",
       "  <thead>\n",
       "    <tr style=\"text-align: right;\">\n",
       "      <th></th>\n",
       "      <th>Date</th>\n",
       "      <th>Label</th>\n",
       "      <th>Top1</th>\n",
       "      <th>Top2</th>\n",
       "      <th>Top3</th>\n",
       "      <th>Top4</th>\n",
       "      <th>Top5</th>\n",
       "      <th>Top6</th>\n",
       "      <th>Top7</th>\n",
       "      <th>Top8</th>\n",
       "      <th>...</th>\n",
       "      <th>Top18</th>\n",
       "      <th>Top19</th>\n",
       "      <th>Top20</th>\n",
       "      <th>Top21</th>\n",
       "      <th>Top22</th>\n",
       "      <th>Top23</th>\n",
       "      <th>Top24</th>\n",
       "      <th>Top25</th>\n",
       "      <th>MeanLength</th>\n",
       "      <th>CountUS</th>\n",
       "    </tr>\n",
       "  </thead>\n",
       "  <tbody>\n",
       "    <tr>\n",
       "      <th>0</th>\n",
       "      <td>2008-08-08</td>\n",
       "      <td>0</td>\n",
       "      <td>[georgia, downs, two, russian, warplanes, as, ...</td>\n",
       "      <td>[breaking, musharraf, to, be, impeached]</td>\n",
       "      <td>[russia, today, columns, of, troops, roll, int...</td>\n",
       "      <td>[russian, tanks, are, moving, towards, the, ca...</td>\n",
       "      <td>[afghan, children, raped, with, impunity, un, ...</td>\n",
       "      <td>[russian, tanks, have, entered, south, ossetia...</td>\n",
       "      <td>[breaking, georgia, invades, south, ossetia, r...</td>\n",
       "      <td>[the, enemy, combatent, trials, are, nothing, ...</td>\n",
       "      <td>...</td>\n",
       "      <td>[condoleezza, rice, the, us, would, not, act, ...</td>\n",
       "      <td>[this, is, a, busy, day, the, european, union,...</td>\n",
       "      <td>[georgia, will, withdraw, soldiers, from, iraq...</td>\n",
       "      <td>[why, the, pentagon, thinks, attacking, iran, ...</td>\n",
       "      <td>[caucasus, in, crisis, georgia, invades, south...</td>\n",
       "      <td>[indian, shoe, manufactory, and, again, in, a,...</td>\n",
       "      <td>[visitors, suffering, from, mental, illnesses,...</td>\n",
       "      <td>[no, help, for, mexico, s, kidnapping, surge]</td>\n",
       "      <td>14.92</td>\n",
       "      <td>4</td>\n",
       "    </tr>\n",
       "    <tr>\n",
       "      <th>1</th>\n",
       "      <td>2008-08-11</td>\n",
       "      <td>1</td>\n",
       "      <td>[why, wont, america, and, nato, help, us, if, ...</td>\n",
       "      <td>[bush, puts, foot, down, on, georgian, conflict]</td>\n",
       "      <td>[jewish, georgian, minister, thanks, to, israe...</td>\n",
       "      <td>[georgian, army, flees, in, disarray, as, russ...</td>\n",
       "      <td>[olympic, opening, ceremony, fireworks, faked]</td>\n",
       "      <td>[what, were, the, mossad, with, fraudulent, ne...</td>\n",
       "      <td>[russia, angered, by, israeli, military, sale,...</td>\n",
       "      <td>[an, american, citizen, living, in, sossetia, ...</td>\n",
       "      <td>...</td>\n",
       "      <td>[riots, are, still, going, on, in, montreal, c...</td>\n",
       "      <td>[china, to, overtake, us, as, largest, manufac...</td>\n",
       "      <td>[war, in, south, ossetia, pics]</td>\n",
       "      <td>[israeli, physicians, group, condemns, state, ...</td>\n",
       "      <td>[russia, has, just, beaten, the, united, state...</td>\n",
       "      <td>[perhaps, the, question, about, the, georgia, ...</td>\n",
       "      <td>[russia, is, so, much, better, at, war]</td>\n",
       "      <td>[so, this, is, what, it, s, come, to, trading,...</td>\n",
       "      <td>10.76</td>\n",
       "      <td>8</td>\n",
       "    </tr>\n",
       "    <tr>\n",
       "      <th>2</th>\n",
       "      <td>2008-08-12</td>\n",
       "      <td>0</td>\n",
       "      <td>[remember, that, adorable, year, old, who, san...</td>\n",
       "      <td>[russia, ends, georgia, operation]</td>\n",
       "      <td>[if, we, had, no, sexual, harassment, we, woul...</td>\n",
       "      <td>[al, qa, eda, is, losing, support, in, iraq, b...</td>\n",
       "      <td>[ceasefire, in, georgia, putin, outmaneuvers, ...</td>\n",
       "      <td>[why, microsoft, and, intel, tried, to, kill, ...</td>\n",
       "      <td>[stratfor, the, russo, georgian, war, and, the...</td>\n",
       "      <td>[i, m, trying, to, get, a, sense, of, this, wh...</td>\n",
       "      <td>...</td>\n",
       "      <td>[gorbachev, accuses, us, of, making, a, seriou...</td>\n",
       "      <td>[russia, georgia, and, nato, cold, war, two]</td>\n",
       "      <td>[remember, that, adorable, year, old, who, led...</td>\n",
       "      <td>[war, in, georgia, the, israeli, connection]</td>\n",
       "      <td>[all, signs, point, to, the, us, encouraging, ...</td>\n",
       "      <td>[christopher, king, argues, that, the, us, and...</td>\n",
       "      <td>[america, the, new, mexico]</td>\n",
       "      <td>[bbc, news, asia, pacific, extinction, by, man...</td>\n",
       "      <td>14.12</td>\n",
       "      <td>8</td>\n",
       "    </tr>\n",
       "    <tr>\n",
       "      <th>3</th>\n",
       "      <td>2008-08-13</td>\n",
       "      <td>0</td>\n",
       "      <td>[us, refuses, israel, weapons, to, attack, ira...</td>\n",
       "      <td>[when, the, president, ordered, to, attack, ts...</td>\n",
       "      <td>[israel, clears, troops, who, killed, reuters,...</td>\n",
       "      <td>[britain, s, policy, of, being, tough, on, dru...</td>\n",
       "      <td>[body, of, year, old, found, in, trunk, latest...</td>\n",
       "      <td>[china, has, moved, million, quake, survivors,...</td>\n",
       "      <td>[bush, announces, operation, get, all, up, in,...</td>\n",
       "      <td>[russian, forces, sink, georgian, ships]</td>\n",
       "      <td>...</td>\n",
       "      <td>[georgia, s, ddos, came, from, us, sources]</td>\n",
       "      <td>[russian, convoy, heads, into, georgia, violat...</td>\n",
       "      <td>[israeli, defence, minister, us, against, stri...</td>\n",
       "      <td>[gorbachev, we, had, no, choice]</td>\n",
       "      <td>[witness, russian, forces, head, towards, tbil...</td>\n",
       "      <td>[quarter, of, russians, blame, us, for, confli...</td>\n",
       "      <td>[georgian, president, says, us, military, will...</td>\n",
       "      <td>[nobel, laureate, aleksander, solzhenitsyn, ac...</td>\n",
       "      <td>12.44</td>\n",
       "      <td>10</td>\n",
       "    </tr>\n",
       "    <tr>\n",
       "      <th>4</th>\n",
       "      <td>2008-08-14</td>\n",
       "      <td>1</td>\n",
       "      <td>[all, the, experts, admit, that, we, should, l...</td>\n",
       "      <td>[war, in, south, osetia, pictures, made, by, a...</td>\n",
       "      <td>[swedish, wrestler, ara, abrahamian, throws, a...</td>\n",
       "      <td>[russia, exaggerated, the, death, toll, in, so...</td>\n",
       "      <td>[missile, that, killed, inside, pakistan, may,...</td>\n",
       "      <td>[rushdie, condemns, random, house, s, refusal,...</td>\n",
       "      <td>[poland, and, us, agree, to, missle, defense, ...</td>\n",
       "      <td>[will, the, russians, conquer, tblisi, bet, on...</td>\n",
       "      <td>...</td>\n",
       "      <td>[war, in, the, caucasus, is, as, much, the, pr...</td>\n",
       "      <td>[non, media, photos, of, south, ossetia, georg...</td>\n",
       "      <td>[georgian, tv, reporter, shot, by, russian, sn...</td>\n",
       "      <td>[saudi, arabia, mother, moves, to, block, chil...</td>\n",
       "      <td>[taliban, wages, war, on, humanitarian, aid, w...</td>\n",
       "      <td>[russia, world, can, forget, about, georgia, s...</td>\n",
       "      <td>[darfur, rebels, accuse, sudan, of, mounting, ...</td>\n",
       "      <td>[philippines, peace, advocate, say, muslims, n...</td>\n",
       "      <td>10.88</td>\n",
       "      <td>4</td>\n",
       "    </tr>\n",
       "  </tbody>\n",
       "</table>\n",
       "<p>5 rows × 29 columns</p>\n",
       "</div>"
      ],
      "text/plain": [
       "         Date  Label                                               Top1  \\\n",
       "0  2008-08-08      0  [georgia, downs, two, russian, warplanes, as, ...   \n",
       "1  2008-08-11      1  [why, wont, america, and, nato, help, us, if, ...   \n",
       "2  2008-08-12      0  [remember, that, adorable, year, old, who, san...   \n",
       "3  2008-08-13      0  [us, refuses, israel, weapons, to, attack, ira...   \n",
       "4  2008-08-14      1  [all, the, experts, admit, that, we, should, l...   \n",
       "\n",
       "                                                Top2  \\\n",
       "0           [breaking, musharraf, to, be, impeached]   \n",
       "1   [bush, puts, foot, down, on, georgian, conflict]   \n",
       "2                 [russia, ends, georgia, operation]   \n",
       "3  [when, the, president, ordered, to, attack, ts...   \n",
       "4  [war, in, south, osetia, pictures, made, by, a...   \n",
       "\n",
       "                                                Top3  \\\n",
       "0  [russia, today, columns, of, troops, roll, int...   \n",
       "1  [jewish, georgian, minister, thanks, to, israe...   \n",
       "2  [if, we, had, no, sexual, harassment, we, woul...   \n",
       "3  [israel, clears, troops, who, killed, reuters,...   \n",
       "4  [swedish, wrestler, ara, abrahamian, throws, a...   \n",
       "\n",
       "                                                Top4  \\\n",
       "0  [russian, tanks, are, moving, towards, the, ca...   \n",
       "1  [georgian, army, flees, in, disarray, as, russ...   \n",
       "2  [al, qa, eda, is, losing, support, in, iraq, b...   \n",
       "3  [britain, s, policy, of, being, tough, on, dru...   \n",
       "4  [russia, exaggerated, the, death, toll, in, so...   \n",
       "\n",
       "                                                Top5  \\\n",
       "0  [afghan, children, raped, with, impunity, un, ...   \n",
       "1     [olympic, opening, ceremony, fireworks, faked]   \n",
       "2  [ceasefire, in, georgia, putin, outmaneuvers, ...   \n",
       "3  [body, of, year, old, found, in, trunk, latest...   \n",
       "4  [missile, that, killed, inside, pakistan, may,...   \n",
       "\n",
       "                                                Top6  \\\n",
       "0  [russian, tanks, have, entered, south, ossetia...   \n",
       "1  [what, were, the, mossad, with, fraudulent, ne...   \n",
       "2  [why, microsoft, and, intel, tried, to, kill, ...   \n",
       "3  [china, has, moved, million, quake, survivors,...   \n",
       "4  [rushdie, condemns, random, house, s, refusal,...   \n",
       "\n",
       "                                                Top7  \\\n",
       "0  [breaking, georgia, invades, south, ossetia, r...   \n",
       "1  [russia, angered, by, israeli, military, sale,...   \n",
       "2  [stratfor, the, russo, georgian, war, and, the...   \n",
       "3  [bush, announces, operation, get, all, up, in,...   \n",
       "4  [poland, and, us, agree, to, missle, defense, ...   \n",
       "\n",
       "                                                Top8   ...    \\\n",
       "0  [the, enemy, combatent, trials, are, nothing, ...   ...     \n",
       "1  [an, american, citizen, living, in, sossetia, ...   ...     \n",
       "2  [i, m, trying, to, get, a, sense, of, this, wh...   ...     \n",
       "3           [russian, forces, sink, georgian, ships]   ...     \n",
       "4  [will, the, russians, conquer, tblisi, bet, on...   ...     \n",
       "\n",
       "                                               Top18  \\\n",
       "0  [condoleezza, rice, the, us, would, not, act, ...   \n",
       "1  [riots, are, still, going, on, in, montreal, c...   \n",
       "2  [gorbachev, accuses, us, of, making, a, seriou...   \n",
       "3        [georgia, s, ddos, came, from, us, sources]   \n",
       "4  [war, in, the, caucasus, is, as, much, the, pr...   \n",
       "\n",
       "                                               Top19  \\\n",
       "0  [this, is, a, busy, day, the, european, union,...   \n",
       "1  [china, to, overtake, us, as, largest, manufac...   \n",
       "2       [russia, georgia, and, nato, cold, war, two]   \n",
       "3  [russian, convoy, heads, into, georgia, violat...   \n",
       "4  [non, media, photos, of, south, ossetia, georg...   \n",
       "\n",
       "                                               Top20  \\\n",
       "0  [georgia, will, withdraw, soldiers, from, iraq...   \n",
       "1                    [war, in, south, ossetia, pics]   \n",
       "2  [remember, that, adorable, year, old, who, led...   \n",
       "3  [israeli, defence, minister, us, against, stri...   \n",
       "4  [georgian, tv, reporter, shot, by, russian, sn...   \n",
       "\n",
       "                                               Top21  \\\n",
       "0  [why, the, pentagon, thinks, attacking, iran, ...   \n",
       "1  [israeli, physicians, group, condemns, state, ...   \n",
       "2       [war, in, georgia, the, israeli, connection]   \n",
       "3                   [gorbachev, we, had, no, choice]   \n",
       "4  [saudi, arabia, mother, moves, to, block, chil...   \n",
       "\n",
       "                                               Top22  \\\n",
       "0  [caucasus, in, crisis, georgia, invades, south...   \n",
       "1  [russia, has, just, beaten, the, united, state...   \n",
       "2  [all, signs, point, to, the, us, encouraging, ...   \n",
       "3  [witness, russian, forces, head, towards, tbil...   \n",
       "4  [taliban, wages, war, on, humanitarian, aid, w...   \n",
       "\n",
       "                                               Top23  \\\n",
       "0  [indian, shoe, manufactory, and, again, in, a,...   \n",
       "1  [perhaps, the, question, about, the, georgia, ...   \n",
       "2  [christopher, king, argues, that, the, us, and...   \n",
       "3  [quarter, of, russians, blame, us, for, confli...   \n",
       "4  [russia, world, can, forget, about, georgia, s...   \n",
       "\n",
       "                                               Top24  \\\n",
       "0  [visitors, suffering, from, mental, illnesses,...   \n",
       "1            [russia, is, so, much, better, at, war]   \n",
       "2                        [america, the, new, mexico]   \n",
       "3  [georgian, president, says, us, military, will...   \n",
       "4  [darfur, rebels, accuse, sudan, of, mounting, ...   \n",
       "\n",
       "                                               Top25 MeanLength CountUS  \n",
       "0      [no, help, for, mexico, s, kidnapping, surge]      14.92       4  \n",
       "1  [so, this, is, what, it, s, come, to, trading,...      10.76       8  \n",
       "2  [bbc, news, asia, pacific, extinction, by, man...      14.12       8  \n",
       "3  [nobel, laureate, aleksander, solzhenitsyn, ac...      12.44      10  \n",
       "4  [philippines, peace, advocate, say, muslims, n...      10.88       4  \n",
       "\n",
       "[5 rows x 29 columns]"
      ]
     },
     "execution_count": 28,
     "metadata": {},
     "output_type": "execute_result"
    }
   ],
   "source": [
    "df.head()"
   ]
  },
  {
   "cell_type": "code",
   "execution_count": 29,
   "metadata": {},
   "outputs": [
    {
     "data": {
      "text/plain": [
       "(-0.00013055362274792378, 0.99535729774622406)"
      ]
     },
     "execution_count": 29,
     "metadata": {},
     "output_type": "execute_result"
    }
   ],
   "source": [
    "pearsonr(df.CountUS, df.Label)"
   ]
  },
  {
   "cell_type": "markdown",
   "metadata": {},
   "source": [
    "Коэффициент корреляции еще меньше, p-value близко к 1, следовательно, корреляции между количеством упоминаний Барака Обамы и США в день и изменением индекса Доу-Джонса не наблюдается (не отвергается гипотеза о независимости двух векторов)."
   ]
  },
  {
   "cell_type": "markdown",
   "metadata": {},
   "source": [
    "Попробуем посмотреть на корреляцию изменения индекса с упоминанием других признаков (Исламское государство, Россия и Путин, миграция беженцев)."
   ]
  },
  {
   "cell_type": "code",
   "execution_count": 30,
   "metadata": {},
   "outputs": [
    {
     "data": {
      "text/plain": [
       "(-0.012821265520728624, 0.56768144801712461)"
      ]
     },
     "execution_count": 30,
     "metadata": {},
     "output_type": "execute_result"
    }
   ],
   "source": [
    "features_is = ['isil', 'isis']\n",
    "pearsonr(df.loc[:, 'Top1':'Top25'].apply(lambda x: count_features(x, features_is), axis = 1), df.Label)"
   ]
  },
  {
   "cell_type": "code",
   "execution_count": 31,
   "metadata": {},
   "outputs": [
    {
     "data": {
      "text/plain": [
       "(0.0042592720842379349, 0.84943659299601593)"
      ]
     },
     "execution_count": 31,
     "metadata": {},
     "output_type": "execute_result"
    }
   ],
   "source": [
    "features_ru = ['russia', 'putin']\n",
    "pearsonr(df.loc[:, 'Top1':'Top25'].apply(lambda x: count_features(x, features_ru), axis = 1), df.Label)"
   ]
  },
  {
   "cell_type": "code",
   "execution_count": 32,
   "metadata": {},
   "outputs": [
    {
     "data": {
      "text/plain": [
       "(0.037835525017488998, 0.091614930328014987)"
      ]
     },
     "execution_count": 32,
     "metadata": {},
     "output_type": "execute_result"
    }
   ],
   "source": [
    "features_fin = ['refugees', 'migrant']\n",
    "pearsonr(df.loc[:, 'Top1':'Top25'].apply(lambda x: count_features(x, features_fin), axis = 1), df.Label)"
   ]
  },
  {
   "cell_type": "markdown",
   "metadata": {},
   "source": [
    "Самое большое значение коэффициента корреляции наблюдается для количества упоминаний беженцев и мигрантов, однако это значение достаточно мало."
   ]
  },
  {
   "cell_type": "markdown",
   "metadata": {},
   "source": [
    "## 3. Каких статей больше: статей о России и Путине или об Исламском государстве (запрещенной законом РФ террористическая организации)?"
   ]
  },
  {
   "cell_type": "code",
   "execution_count": 33,
   "metadata": {
    "collapsed": true
   },
   "outputs": [],
   "source": [
    "def join_tokens(tokens_list):\n",
    "    clean_texts = []\n",
    "    for tokens in tokens_list:\n",
    "        text = ' '.join(tokens)\n",
    "        clean_texts.append(text) #предобработанный список\n",
    "    return clean_texts\n",
    "#для удобства дальнейшей работы объединим списки токенов в единую строку для каждой новости    "
   ]
  },
  {
   "cell_type": "code",
   "execution_count": 34,
   "metadata": {
    "collapsed": true
   },
   "outputs": [],
   "source": [
    "for column in df.loc[:,'Top1':'Top25']:\n",
    "    list = df[column]\n",
    "    df[column] = join_tokens(list)"
   ]
  },
  {
   "cell_type": "code",
   "execution_count": 35,
   "metadata": {
    "scrolled": true
   },
   "outputs": [
    {
     "data": {
      "text/html": [
       "<div>\n",
       "<style>\n",
       "    .dataframe thead tr:only-child th {\n",
       "        text-align: right;\n",
       "    }\n",
       "\n",
       "    .dataframe thead th {\n",
       "        text-align: left;\n",
       "    }\n",
       "\n",
       "    .dataframe tbody tr th {\n",
       "        vertical-align: top;\n",
       "    }\n",
       "</style>\n",
       "<table border=\"1\" class=\"dataframe\">\n",
       "  <thead>\n",
       "    <tr style=\"text-align: right;\">\n",
       "      <th></th>\n",
       "      <th>Date</th>\n",
       "      <th>Label</th>\n",
       "      <th>Top1</th>\n",
       "      <th>Top2</th>\n",
       "      <th>Top3</th>\n",
       "      <th>Top4</th>\n",
       "      <th>Top5</th>\n",
       "      <th>Top6</th>\n",
       "      <th>Top7</th>\n",
       "      <th>Top8</th>\n",
       "      <th>...</th>\n",
       "      <th>Top18</th>\n",
       "      <th>Top19</th>\n",
       "      <th>Top20</th>\n",
       "      <th>Top21</th>\n",
       "      <th>Top22</th>\n",
       "      <th>Top23</th>\n",
       "      <th>Top24</th>\n",
       "      <th>Top25</th>\n",
       "      <th>MeanLength</th>\n",
       "      <th>CountUS</th>\n",
       "    </tr>\n",
       "  </thead>\n",
       "  <tbody>\n",
       "    <tr>\n",
       "      <th>0</th>\n",
       "      <td>2008-08-08</td>\n",
       "      <td>0</td>\n",
       "      <td>georgia downs two russian warplanes as countri...</td>\n",
       "      <td>breaking musharraf to be impeached</td>\n",
       "      <td>russia today columns of troops roll into south...</td>\n",
       "      <td>russian tanks are moving towards the capital o...</td>\n",
       "      <td>afghan children raped with impunity un officia...</td>\n",
       "      <td>russian tanks have entered south ossetia whils...</td>\n",
       "      <td>breaking georgia invades south ossetia russia ...</td>\n",
       "      <td>the enemy combatent trials are nothing but a s...</td>\n",
       "      <td>...</td>\n",
       "      <td>condoleezza rice the us would not act to preve...</td>\n",
       "      <td>this is a busy day the european union has appr...</td>\n",
       "      <td>georgia will withdraw soldiers from iraq to he...</td>\n",
       "      <td>why the pentagon thinks attacking iran is a ba...</td>\n",
       "      <td>caucasus in crisis georgia invades south ossetia</td>\n",
       "      <td>indian shoe manufactory and again in a series ...</td>\n",
       "      <td>visitors suffering from mental illnesses banne...</td>\n",
       "      <td>no help for mexico s kidnapping surge</td>\n",
       "      <td>14.92</td>\n",
       "      <td>4</td>\n",
       "    </tr>\n",
       "    <tr>\n",
       "      <th>1</th>\n",
       "      <td>2008-08-11</td>\n",
       "      <td>1</td>\n",
       "      <td>why wont america and nato help us if they wont...</td>\n",
       "      <td>bush puts foot down on georgian conflict</td>\n",
       "      <td>jewish georgian minister thanks to israeli tra...</td>\n",
       "      <td>georgian army flees in disarray as russians ad...</td>\n",
       "      <td>olympic opening ceremony fireworks faked</td>\n",
       "      <td>what were the mossad with fraudulent new zeala...</td>\n",
       "      <td>russia angered by israeli military sale to geo...</td>\n",
       "      <td>an american citizen living in sossetia blames ...</td>\n",
       "      <td>...</td>\n",
       "      <td>riots are still going on in montreal canada be...</td>\n",
       "      <td>china to overtake us as largest manufacturer</td>\n",
       "      <td>war in south ossetia pics</td>\n",
       "      <td>israeli physicians group condemns state torture</td>\n",
       "      <td>russia has just beaten the united states over ...</td>\n",
       "      <td>perhaps the question about the georgia russia ...</td>\n",
       "      <td>russia is so much better at war</td>\n",
       "      <td>so this is what it s come to trading sex for food</td>\n",
       "      <td>10.76</td>\n",
       "      <td>8</td>\n",
       "    </tr>\n",
       "    <tr>\n",
       "      <th>2</th>\n",
       "      <td>2008-08-12</td>\n",
       "      <td>0</td>\n",
       "      <td>remember that adorable year old who sang at th...</td>\n",
       "      <td>russia ends georgia operation</td>\n",
       "      <td>if we had no sexual harassment we would have n...</td>\n",
       "      <td>al qa eda is losing support in iraq because of...</td>\n",
       "      <td>ceasefire in georgia putin outmaneuvers the west</td>\n",
       "      <td>why microsoft and intel tried to kill the xo l...</td>\n",
       "      <td>stratfor the russo georgian war and the balanc...</td>\n",
       "      <td>i m trying to get a sense of this whole georgi...</td>\n",
       "      <td>...</td>\n",
       "      <td>gorbachev accuses us of making a serious blund...</td>\n",
       "      <td>russia georgia and nato cold war two</td>\n",
       "      <td>remember that adorable year old who led your c...</td>\n",
       "      <td>war in georgia the israeli connection</td>\n",
       "      <td>all signs point to the us encouraging georgia ...</td>\n",
       "      <td>christopher king argues that the us and nato a...</td>\n",
       "      <td>america the new mexico</td>\n",
       "      <td>bbc news asia pacific extinction by man not cl...</td>\n",
       "      <td>14.12</td>\n",
       "      <td>8</td>\n",
       "    </tr>\n",
       "    <tr>\n",
       "      <th>3</th>\n",
       "      <td>2008-08-13</td>\n",
       "      <td>0</td>\n",
       "      <td>us refuses israel weapons to attack iran report</td>\n",
       "      <td>when the president ordered to attack tskhinval...</td>\n",
       "      <td>israel clears troops who killed reuters cameraman</td>\n",
       "      <td>britain s policy of being tough on drugs is po...</td>\n",
       "      <td>body of year old found in trunk latest ransom ...</td>\n",
       "      <td>china has moved million quake survivors into p...</td>\n",
       "      <td>bush announces operation get all up in russia ...</td>\n",
       "      <td>russian forces sink georgian ships</td>\n",
       "      <td>...</td>\n",
       "      <td>georgia s ddos came from us sources</td>\n",
       "      <td>russian convoy heads into georgia violating truce</td>\n",
       "      <td>israeli defence minister us against strike on ...</td>\n",
       "      <td>gorbachev we had no choice</td>\n",
       "      <td>witness russian forces head towards tbilisi in...</td>\n",
       "      <td>quarter of russians blame us for conflict poll</td>\n",
       "      <td>georgian president says us military will take ...</td>\n",
       "      <td>nobel laureate aleksander solzhenitsyn accuses...</td>\n",
       "      <td>12.44</td>\n",
       "      <td>10</td>\n",
       "    </tr>\n",
       "    <tr>\n",
       "      <th>4</th>\n",
       "      <td>2008-08-14</td>\n",
       "      <td>1</td>\n",
       "      <td>all the experts admit that we should legalise ...</td>\n",
       "      <td>war in south osetia pictures made by a russian...</td>\n",
       "      <td>swedish wrestler ara abrahamian throws away me...</td>\n",
       "      <td>russia exaggerated the death toll in south oss...</td>\n",
       "      <td>missile that killed inside pakistan may have b...</td>\n",
       "      <td>rushdie condemns random house s refusal to pub...</td>\n",
       "      <td>poland and us agree to missle defense deal int...</td>\n",
       "      <td>will the russians conquer tblisi bet on it no ...</td>\n",
       "      <td>...</td>\n",
       "      <td>war in the caucasus is as much the product of ...</td>\n",
       "      <td>non media photos of south ossetia georgia conf...</td>\n",
       "      <td>georgian tv reporter shot by russian sniper du...</td>\n",
       "      <td>saudi arabia mother moves to block child marriage</td>\n",
       "      <td>taliban wages war on humanitarian aid workers</td>\n",
       "      <td>russia world can forget about georgia s territ...</td>\n",
       "      <td>darfur rebels accuse sudan of mounting major a...</td>\n",
       "      <td>philippines peace advocate say muslims need as...</td>\n",
       "      <td>10.88</td>\n",
       "      <td>4</td>\n",
       "    </tr>\n",
       "  </tbody>\n",
       "</table>\n",
       "<p>5 rows × 29 columns</p>\n",
       "</div>"
      ],
      "text/plain": [
       "         Date  Label                                               Top1  \\\n",
       "0  2008-08-08      0  georgia downs two russian warplanes as countri...   \n",
       "1  2008-08-11      1  why wont america and nato help us if they wont...   \n",
       "2  2008-08-12      0  remember that adorable year old who sang at th...   \n",
       "3  2008-08-13      0    us refuses israel weapons to attack iran report   \n",
       "4  2008-08-14      1  all the experts admit that we should legalise ...   \n",
       "\n",
       "                                                Top2  \\\n",
       "0                 breaking musharraf to be impeached   \n",
       "1           bush puts foot down on georgian conflict   \n",
       "2                      russia ends georgia operation   \n",
       "3  when the president ordered to attack tskhinval...   \n",
       "4  war in south osetia pictures made by a russian...   \n",
       "\n",
       "                                                Top3  \\\n",
       "0  russia today columns of troops roll into south...   \n",
       "1  jewish georgian minister thanks to israeli tra...   \n",
       "2  if we had no sexual harassment we would have n...   \n",
       "3  israel clears troops who killed reuters cameraman   \n",
       "4  swedish wrestler ara abrahamian throws away me...   \n",
       "\n",
       "                                                Top4  \\\n",
       "0  russian tanks are moving towards the capital o...   \n",
       "1  georgian army flees in disarray as russians ad...   \n",
       "2  al qa eda is losing support in iraq because of...   \n",
       "3  britain s policy of being tough on drugs is po...   \n",
       "4  russia exaggerated the death toll in south oss...   \n",
       "\n",
       "                                                Top5  \\\n",
       "0  afghan children raped with impunity un officia...   \n",
       "1           olympic opening ceremony fireworks faked   \n",
       "2   ceasefire in georgia putin outmaneuvers the west   \n",
       "3  body of year old found in trunk latest ransom ...   \n",
       "4  missile that killed inside pakistan may have b...   \n",
       "\n",
       "                                                Top6  \\\n",
       "0  russian tanks have entered south ossetia whils...   \n",
       "1  what were the mossad with fraudulent new zeala...   \n",
       "2  why microsoft and intel tried to kill the xo l...   \n",
       "3  china has moved million quake survivors into p...   \n",
       "4  rushdie condemns random house s refusal to pub...   \n",
       "\n",
       "                                                Top7  \\\n",
       "0  breaking georgia invades south ossetia russia ...   \n",
       "1  russia angered by israeli military sale to geo...   \n",
       "2  stratfor the russo georgian war and the balanc...   \n",
       "3  bush announces operation get all up in russia ...   \n",
       "4  poland and us agree to missle defense deal int...   \n",
       "\n",
       "                                                Top8   ...    \\\n",
       "0  the enemy combatent trials are nothing but a s...   ...     \n",
       "1  an american citizen living in sossetia blames ...   ...     \n",
       "2  i m trying to get a sense of this whole georgi...   ...     \n",
       "3                 russian forces sink georgian ships   ...     \n",
       "4  will the russians conquer tblisi bet on it no ...   ...     \n",
       "\n",
       "                                               Top18  \\\n",
       "0  condoleezza rice the us would not act to preve...   \n",
       "1  riots are still going on in montreal canada be...   \n",
       "2  gorbachev accuses us of making a serious blund...   \n",
       "3                georgia s ddos came from us sources   \n",
       "4  war in the caucasus is as much the product of ...   \n",
       "\n",
       "                                               Top19  \\\n",
       "0  this is a busy day the european union has appr...   \n",
       "1       china to overtake us as largest manufacturer   \n",
       "2               russia georgia and nato cold war two   \n",
       "3  russian convoy heads into georgia violating truce   \n",
       "4  non media photos of south ossetia georgia conf...   \n",
       "\n",
       "                                               Top20  \\\n",
       "0  georgia will withdraw soldiers from iraq to he...   \n",
       "1                          war in south ossetia pics   \n",
       "2  remember that adorable year old who led your c...   \n",
       "3  israeli defence minister us against strike on ...   \n",
       "4  georgian tv reporter shot by russian sniper du...   \n",
       "\n",
       "                                               Top21  \\\n",
       "0  why the pentagon thinks attacking iran is a ba...   \n",
       "1    israeli physicians group condemns state torture   \n",
       "2              war in georgia the israeli connection   \n",
       "3                         gorbachev we had no choice   \n",
       "4  saudi arabia mother moves to block child marriage   \n",
       "\n",
       "                                               Top22  \\\n",
       "0   caucasus in crisis georgia invades south ossetia   \n",
       "1  russia has just beaten the united states over ...   \n",
       "2  all signs point to the us encouraging georgia ...   \n",
       "3  witness russian forces head towards tbilisi in...   \n",
       "4      taliban wages war on humanitarian aid workers   \n",
       "\n",
       "                                               Top23  \\\n",
       "0  indian shoe manufactory and again in a series ...   \n",
       "1  perhaps the question about the georgia russia ...   \n",
       "2  christopher king argues that the us and nato a...   \n",
       "3     quarter of russians blame us for conflict poll   \n",
       "4  russia world can forget about georgia s territ...   \n",
       "\n",
       "                                               Top24  \\\n",
       "0  visitors suffering from mental illnesses banne...   \n",
       "1                    russia is so much better at war   \n",
       "2                             america the new mexico   \n",
       "3  georgian president says us military will take ...   \n",
       "4  darfur rebels accuse sudan of mounting major a...   \n",
       "\n",
       "                                               Top25 MeanLength CountUS  \n",
       "0              no help for mexico s kidnapping surge      14.92       4  \n",
       "1  so this is what it s come to trading sex for food      10.76       8  \n",
       "2  bbc news asia pacific extinction by man not cl...      14.12       8  \n",
       "3  nobel laureate aleksander solzhenitsyn accuses...      12.44      10  \n",
       "4  philippines peace advocate say muslims need as...      10.88       4  \n",
       "\n",
       "[5 rows x 29 columns]"
      ]
     },
     "execution_count": 35,
     "metadata": {},
     "output_type": "execute_result"
    }
   ],
   "source": [
    "df.head()"
   ]
  },
  {
   "cell_type": "markdown",
   "metadata": {},
   "source": [
    "Импортируем numpy для использования функции count_nonzero, чтобы посчитать количество ненулевых элементов в матрице \n",
    "статей после применения фильтра \"содержит слова Россия или Путин\"."
   ]
  },
  {
   "cell_type": "code",
   "execution_count": 40,
   "metadata": {
    "collapsed": true
   },
   "outputs": [],
   "source": [
    "import numpy as np \n"
   ]
  },
  {
   "cell_type": "markdown",
   "metadata": {},
   "source": [
    "Количество статей о России и Путине:"
   ]
  },
  {
   "cell_type": "code",
   "execution_count": 38,
   "metadata": {},
   "outputs": [
    {
     "data": {
      "text/plain": [
       "2980"
      ]
     },
     "execution_count": 38,
     "metadata": {},
     "output_type": "execute_result"
    }
   ],
   "source": [
    "np.count_nonzero(df.loc[:, 'Top1':'Top25'].apply(lambda x: x.str.contains(\"russia|putin\", na = False)))"
   ]
  },
  {
   "cell_type": "markdown",
   "metadata": {},
   "source": [
    "Количество статей об Исламском государстве (запрещенной законом РФ террористическая организации):"
   ]
  },
  {
   "cell_type": "code",
   "execution_count": 41,
   "metadata": {},
   "outputs": [
    {
     "data": {
      "text/plain": [
       "1235"
      ]
     },
     "execution_count": 41,
     "metadata": {},
     "output_type": "execute_result"
    }
   ],
   "source": [
    "np.count_nonzero(df.loc[:, 'Top1':'Top25'].apply(lambda x: x.str.contains(\"isil|isis\", na = False)))"
   ]
  },
  {
   "cell_type": "markdown",
   "metadata": {},
   "source": [
    "Статей о России больше, чем об Исламском государстве."
   ]
  },
  {
   "cell_type": "markdown",
   "metadata": {},
   "source": [
    "## 4. О каких кризисах (crisis) пишут статьи?"
   ]
  },
  {
   "cell_type": "markdown",
   "metadata": {},
   "source": [
    "Напишем функцию для определения видов кризиса в статьях. По результатам просмотра текстов сначала планировалось использовать в качестве контекста для слова \"crisis\" 2 слова слева от него, но потом стало видно, что в большинстве случаев достаточно одного предыдущего слова."
   ]
  },
  {
   "cell_type": "code",
   "execution_count": 42,
   "metadata": {
    "collapsed": true
   },
   "outputs": [],
   "source": [
    "def crisis(text_list):\n",
    "    what_crisis = []\n",
    "    for text in text_list:\n",
    "        #crisis_neighbours = []\n",
    "        tokens = text.split()\n",
    "        if ('crisis' in tokens):\n",
    "            t = tokens.index(\"crisis\")\n",
    "            #crisis_neighbours.append(tokens[t-2])\n",
    "            #crisis_neighbours.append(tokens[t-1])\n",
    "         \n",
    "            what_crisis.append(tokens[t-1])\n",
    "            \n",
    "    return what_crisis       \n",
    "        \n",
    "        "
   ]
  },
  {
   "cell_type": "code",
   "execution_count": 43,
   "metadata": {
    "collapsed": true
   },
   "outputs": [],
   "source": [
    "what_crisis = []\n",
    "for column in df.loc[:, 'Top1':'Top25']:\n",
    "    list = df[column]\n",
    "    what_crisis.extend(crisis(list))"
   ]
  },
  {
   "cell_type": "code",
   "execution_count": 44,
   "metadata": {
    "scrolled": false
   },
   "outputs": [
    {
     "name": "stdout",
     "output_type": "stream",
     "text": [
      "505\n"
     ]
    },
    {
     "data": {
      "text/plain": [
       "['humanitarian',\n",
       " 'current',\n",
       " 'pics',\n",
       " 'difficult',\n",
       " 'humanitarian',\n",
       " 'banking',\n",
       " 'nuclear',\n",
       " 'nuclear',\n",
       " 'financial',\n",
       " 'financial']"
      ]
     },
     "execution_count": 44,
     "metadata": {},
     "output_type": "execute_result"
    }
   ],
   "source": [
    "print(len(what_crisis))\n",
    "what_crisis[:10]"
   ]
  },
  {
   "cell_type": "code",
   "execution_count": 54,
   "metadata": {},
   "outputs": [
    {
     "name": "stdout",
     "output_type": "stream",
     "text": [
      "166\n",
      "{'worsening', 'cash', 'funding', 'coast', 'economic', 'greek', 'hostage', 'syria', 'unveils', 'unemployment', 'jobs', 'cholera', 'bleaching', 'rwandan', 'dementia', 'netanyahu', 'phosphorus', 'legal', 'migrants', 'of', 'seeker', 'financial', 'egypt', 'syrian', 'identity', 'in', 'with', 'budget', 'housing', 'power', 'arab', 'cucumber', 'treatment', 'huge', 'lanka', 'iran', 'politics', 'resorts', 'pollution', 'week', 'the', 'carbon', 'total', 'infanticide', 'banking', 'east', 'uk', 'survey', 'market', 'potential', 'superbug', 'leftist', 'microsoft', 'lebanon', 'pics', 'world', 'judiciary', 'water', 'a', 'global', 'immigration', 'gaza', 'energy', 'street', 'word', 'honduran', 'since', 'ongoing', 'smog', 'price', 'political', 'iraq', 'deficit', 'italian', 'difficult', 'tackle', 'to', 'into', 'health', 'ukraine', 'extreme', 'european', 'nuke', 'says', 'oil', 'mounting', 'for', 'healthcare', 'radiation', 'korea', 'iceland', 'econ', 'coverage', 'debt', 'this', 'kyrgyzstan', 'further', 'hunger', 'games', 'gender', 'ukrainian', 'reaches', 'ebola', 'humanitarian', 'time', 'google', 'mortgage', 'current', 'silent', 's', 'as', 'ammunition', 'mali', 'marriage', 'georgian', 'lifetime', 'icelands', 'brewing', 'reef', 'japan', 'currency', 'ivoire', 'by', 'macedonian', 'demographic', 'sticky', 'crimea', 'migration', 'darfur', 'eurozone', 'rape', 'count', 'credit', 'tuition', 'refugee', 'migrant', 'on', 'fifa', 'rubbish', 'bank', 'credibility', 'russia', 'thai', 'quit', 'uses', 'fukushima', 'yemen', 'climate', 'unveiling', 'serious', 'fundamental', 'burma', 'diplomatic', 'icrc', 'food', 'good', 'wider', 'korean', 'looming', 'holidays', 'nuclear', 'euro', 'reached', 'change', 'drugs', 'orphan'}\n"
     ]
    }
   ],
   "source": [
    "print(len(set(what_crisis)))\n",
    "print(set(what_crisis))"
   ]
  },
  {
   "cell_type": "markdown",
   "metadata": {},
   "source": [
    "В полученном списке определений кризиса 166 уникальных слов. Среди них встречаются валютный, политический, экономический, климатический, экологический кризисы, кризисы в разных странах, нефтяной, энергетический, миграционный и т.д.  "
   ]
  },
  {
   "cell_type": "code",
   "execution_count": 52,
   "metadata": {},
   "outputs": [
    {
     "data": {
      "text/plain": [
       "[('financial', 56),\n",
       " ('ukraine', 31),\n",
       " ('economic', 28),\n",
       " ('the', 20),\n",
       " ('debt', 19),\n",
       " ('food', 17),\n",
       " ('refugee', 16),\n",
       " ('nuclear', 13),\n",
       " ('humanitarian', 12),\n",
       " ('migrant', 11),\n",
       " ('syria', 10),\n",
       " ('political', 10),\n",
       " ('euro', 9),\n",
       " ('s', 7),\n",
       " ('a', 7),\n",
       " ('greek', 6),\n",
       " ('as', 6),\n",
       " ('banking', 6),\n",
       " ('gaza', 6),\n",
       " ('in', 6),\n",
       " ('eurozone', 5),\n",
       " ('iraq', 5),\n",
       " ('health', 4),\n",
       " ('ebola', 4),\n",
       " ('of', 4),\n",
       " ('currency', 4),\n",
       " ('water', 4),\n",
       " ('global', 4),\n",
       " ('korea', 4),\n",
       " ('climate', 4)]"
      ]
     },
     "execution_count": 52,
     "metadata": {},
     "output_type": "execute_result"
    }
   ],
   "source": [
    "#Выведем список частых соседей кризиса\n",
    "Counter(what_crisis).most_common(30)"
   ]
  },
  {
   "cell_type": "markdown",
   "metadata": {},
   "source": [
    "Получили список 30 слов, наиболее часто встречающихся со словом \"crisis\". Если отбросить стоп-слова (a, the, in, s, as), можно выделить основные кризисы (освещенные в новостных статьях):\n",
    "* финансовый, валютный\n",
    "* экономический\n",
    "* кризис на Украине\n",
    "* продовольственный, гуманитарный\n",
    "* кризис миграции беженцев\n",
    "* политический\n",
    "* ядерный\n",
    "* кризис в Сирии\n",
    "* банковский\n",
    "* кризис евро\n",
    "* кризис в Греции\n",
    "* кризис в секторе Газа\n",
    "* кризис в Ираке\n",
    "* здоровья населения\n",
    "* климатический"
   ]
  },
  {
   "cell_type": "markdown",
   "metadata": {},
   "source": [
    "# Часть 2. Классификация"
   ]
  },
  {
   "cell_type": "code",
   "execution_count": 55,
   "metadata": {
    "collapsed": true
   },
   "outputs": [],
   "source": [
    "import sklearn\n",
    "from sklearn.decomposition import TruncatedSVD\n",
    "from sklearn.feature_extraction.text import *\n",
    "from sklearn.pipeline import *\n",
    "from sklearn.preprocessing import Normalizer\n",
    "from sklearn.metrics import *\n",
    "\n",
    "from sklearn.svm import LinearSVC\n",
    "\n",
    "from nltk.corpus import stopwords\n",
    "stopwords_eng = stopwords.words('english')"
   ]
  },
  {
   "cell_type": "markdown",
   "metadata": {},
   "source": [
    "### Объединение текстовых колонок"
   ]
  },
  {
   "cell_type": "code",
   "execution_count": 56,
   "metadata": {
    "collapsed": true
   },
   "outputs": [],
   "source": [
    "#объединим колонки с новосятми\n",
    "df['news'] = df.loc[:,'Top1':'Top25'].apply(lambda x: ' '.join(x), axis = 1)"
   ]
  },
  {
   "cell_type": "code",
   "execution_count": 57,
   "metadata": {
    "scrolled": false
   },
   "outputs": [
    {
     "data": {
      "text/plain": [
       "'georgia downs two russian warplanes as countries move to brink of war breaking musharraf to be impeached russia today columns of troops roll into south ossetia footage from fighting youtube russian tanks are moving towards the capital of south ossetia which has reportedly been completely destroyed by georgian artillery fire afghan children raped with impunity un official says this is sick a three year old was raped and they do nothing russian tanks have entered south ossetia whilst georgia shoots down two russian jets breaking georgia invades south ossetia russia warned it would intervene on so s side the enemy combatent trials are nothing but a sham salim haman has been sentenced to years but will be kept longer anyway just because they feel like it georgian troops retreat from s osettain capital presumably leaving several hundred people killed video did the us prep georgia for war with russia rice gives green light for israel to attack iran says us has no veto over israeli military ops announcing class action lawsuit on behalf of american public against the fbi so russia and georgia are at war and the nyt s top story is opening ceremonies of the olympics what a fucking disgrace and yet further proof of the decline of journalism china tells bush to stay out of other countries affairs did world war iii start today georgia invades south ossetia if russia gets involved will nato absorb georgia and unleash a full scale war al qaeda faces islamist backlash condoleezza rice the us would not act to prevent an israeli strike on iran israeli defense minister ehud barak israel is prepared for uncompromising victory in the case of military hostilities this is a busy day the european union has approved new sanctions against iran in protest at its nuclear programme georgia will withdraw soldiers from iraq to help fight off russian forces in georgia s breakaway region of south ossetia why the pentagon thinks attacking iran is a bad idea us news amp world report caucasus in crisis georgia invades south ossetia indian shoe manufactory and again in a series of you do not like your work visitors suffering from mental illnesses banned from olympics no help for mexico s kidnapping surge'"
      ]
     },
     "execution_count": 57,
     "metadata": {},
     "output_type": "execute_result"
    }
   ],
   "source": [
    "df.news[0]"
   ]
  },
  {
   "cell_type": "markdown",
   "metadata": {},
   "source": [
    "### Разделение данных на обучающую и тестовую выборки"
   ]
  },
  {
   "cell_type": "code",
   "execution_count": 58,
   "metadata": {
    "collapsed": true
   },
   "outputs": [],
   "source": [
    "df_train = df[df['Date'] < '2015-01-01']\n",
    "df_test = df[df['Date'] > '2014-12-31']"
   ]
  },
  {
   "cell_type": "markdown",
   "metadata": {},
   "source": [
    "### Классификатор LinearSVC"
   ]
  },
  {
   "cell_type": "markdown",
   "metadata": {},
   "source": [
    "Выполним классификацию новостных статей с помощью модели машины опорных векторов. Сначала будем использовать простую векторизацию признакового пространства, затем дополним модель tf-idf представлением, сингулярным разложением и нормировкой векторного простанства. "
   ]
  },
  {
   "cell_type": "markdown",
   "metadata": {},
   "source": [
    "В методе CountVectorizer удаляем стоп-слова и используем для векторизации слова, биграммы и триграммы с помощью параметра ngram_range = (1,3). "
   ]
  },
  {
   "cell_type": "code",
   "execution_count": 98,
   "metadata": {},
   "outputs": [
    {
     "data": {
      "text/plain": [
       "Pipeline(steps=[('vect', CountVectorizer(analyzer='word', binary=False, decode_error='strict',\n",
       "        dtype=<class 'numpy.int64'>, encoding='utf-8', input='content',\n",
       "        lowercase=True, max_df=1.0, max_features=None, min_df=1,\n",
       "        ngram_range=(1, 3), preprocessor=None,\n",
       "        stop_words=['i', 'me',...ax_iter=1000,\n",
       "     multi_class='ovr', penalty='l2', random_state=None, tol=0.0001,\n",
       "     verbose=0))])"
      ]
     },
     "execution_count": 98,
     "metadata": {},
     "output_type": "execute_result"
    }
   ],
   "source": [
    "clf = Pipeline([\n",
    "    ('vect', CountVectorizer(stop_words = stopwords_eng, analyzer = 'word', ngram_range = (1,3))),\n",
    "    #('tfidf', TfidfTransformer()),\n",
    "    #('svd', TruncatedSVD(n_components = 150)),\n",
    "    #('norm', Normalizer() ),\n",
    "    ('clf', LinearSVC()),\n",
    "])\n",
    "\n",
    "\n",
    "clf.fit(df_train.news, df_train.Label)#обучение модели наобучающей выборке"
   ]
  },
  {
   "cell_type": "code",
   "execution_count": 99,
   "metadata": {
    "collapsed": true
   },
   "outputs": [],
   "source": [
    "y_predict = clf.predict(df_test.news)#предсказания классифкатора для тестовых данных"
   ]
  },
  {
   "cell_type": "markdown",
   "metadata": {},
   "source": [
    "Оценим качество классификации с помощью метрик F-measure и Accuracy."
   ]
  },
  {
   "cell_type": "code",
   "execution_count": 100,
   "metadata": {
    "scrolled": true
   },
   "outputs": [
    {
     "name": "stdout",
     "output_type": "stream",
     "text": [
      "F1-measure:   0.53\n",
      "Accuracy:   0.45\n"
     ]
    }
   ],
   "source": [
    "#print(\"Precision: {0:6.2f}\".format(precision_score(df_test.Label, y_predict)))\n",
    "#print(\"Recall: {0:6.2f}\".format(recall_score(df_test.Label, y_predict)))\n",
    "print(\"F1-measure: {0:6.2f}\".format(f1_score(df_test.Label, y_predict)))\n",
    "print(\"Accuracy: {0:6.2f}\".format(accuracy_score(df_test.Label, y_predict)))"
   ]
  },
  {
   "cell_type": "markdown",
   "metadata": {},
   "source": [
    "Получили очень низкое качество классификации. Добавим tf-idf представление."
   ]
  },
  {
   "cell_type": "code",
   "execution_count": 101,
   "metadata": {},
   "outputs": [
    {
     "name": "stdout",
     "output_type": "stream",
     "text": [
      "F1-measure:   0.63\n",
      "Accuracy:   0.49\n"
     ]
    }
   ],
   "source": [
    "clf = Pipeline([\n",
    "    ('vect', CountVectorizer(stop_words = stopwords_eng, analyzer = 'word', ngram_range = (1,3))),\n",
    "    ('tfidf', TfidfTransformer()),\n",
    "    #('svd', TruncatedSVD(n_components = 150)),\n",
    "    #('norm', Normalizer() ),\n",
    "    ('clf', LinearSVC()),\n",
    "])\n",
    "\n",
    "\n",
    "clf.fit(df_train.news, df_train.Label)\n",
    "\n",
    "y_predict = clf.predict(df_test.news)\n",
    "\n",
    "print(\"F1-measure: {0:6.2f}\".format(f1_score(df_test.Label, y_predict)))\n",
    "print(\"Accuracy: {0:6.2f}\".format(accuracy_score(df_test.Label, y_predict)))"
   ]
  },
  {
   "cell_type": "markdown",
   "metadata": {},
   "source": [
    "Качество классификации повысилось, значение F-меры значительно возросло, однако Accuracy все еще меньше 50%.\n",
    "<br>\n",
    "Попробуем добавить сингулярное разложение и сократить размерность признакового пространства до 150 компонент."
   ]
  },
  {
   "cell_type": "code",
   "execution_count": 103,
   "metadata": {},
   "outputs": [
    {
     "name": "stdout",
     "output_type": "stream",
     "text": [
      "F1-measure:   0.67\n",
      "Accuracy:   0.51\n"
     ]
    }
   ],
   "source": [
    "clf = Pipeline([\n",
    "    ('vect', CountVectorizer(stop_words = stopwords_eng, analyzer = 'word', ngram_range = (1,3))),\n",
    "    ('tfidf', TfidfTransformer()),\n",
    "    ('svd', TruncatedSVD(n_components = 150)),\n",
    "    #('norm', Normalizer() ),\n",
    "    ('clf', LinearSVC()),\n",
    "])\n",
    "\n",
    "\n",
    "clf.fit(df_train.news, df_train.Label)\n",
    "\n",
    "y_predict = clf.predict(df_test.news)\n",
    "\n",
    "print(\"F1-measure: {0:6.2f}\".format(f1_score(df_test.Label, y_predict)))\n",
    "print(\"Accuracy: {0:6.2f}\".format(accuracy_score(df_test.Label, y_predict)))"
   ]
  },
  {
   "cell_type": "markdown",
   "metadata": {},
   "source": [
    "В результате применения сингулярного разложение качество классификации еще немного повысилось, но значение Accuracy все еще остается очень низким. Попробуем поэкспериментировать с параметром сингулярного разложения."
   ]
  },
  {
   "cell_type": "code",
   "execution_count": 104,
   "metadata": {},
   "outputs": [
    {
     "name": "stdout",
     "output_type": "stream",
     "text": [
      "F1-measure:   0.68\n",
      "Accuracy:   0.52\n"
     ]
    }
   ],
   "source": [
    "clf = Pipeline([\n",
    "    ('vect', CountVectorizer(stop_words = stopwords_eng, analyzer = 'word', ngram_range = (1,3))),\n",
    "    ('tfidf', TfidfTransformer()),\n",
    "    ('svd', TruncatedSVD(n_components = 100)),\n",
    "    #('norm', Normalizer() ),\n",
    "    ('clf', LinearSVC()),\n",
    "])\n",
    "\n",
    "\n",
    "clf.fit(df_train.news, df_train.Label)\n",
    "\n",
    "y_predict = clf.predict(df_test.news)\n",
    "\n",
    "print(\"F1-measure: {0:6.2f}\".format(f1_score(df_test.Label, y_predict)))\n",
    "print(\"Accuracy: {0:6.2f}\".format(accuracy_score(df_test.Label, y_predict)))"
   ]
  },
  {
   "cell_type": "code",
   "execution_count": 105,
   "metadata": {},
   "outputs": [
    {
     "name": "stdout",
     "output_type": "stream",
     "text": [
      "F1-measure:   0.67\n",
      "Accuracy:   0.51\n"
     ]
    }
   ],
   "source": [
    "clf = Pipeline([\n",
    "    ('vect', CountVectorizer(stop_words = stopwords_eng, analyzer = 'word', ngram_range = (1,3))),\n",
    "    ('tfidf', TfidfTransformer()),\n",
    "    ('svd', TruncatedSVD(n_components = 50)),\n",
    "    #('norm', Normalizer() ),\n",
    "    ('clf', LinearSVC()),\n",
    "])\n",
    "\n",
    "\n",
    "clf.fit(df_train.news, df_train.Label)\n",
    "\n",
    "y_predict = clf.predict(df_test.news)\n",
    "\n",
    "print(\"F1-measure: {0:6.2f}\".format(f1_score(df_test.Label, y_predict)))\n",
    "print(\"Accuracy: {0:6.2f}\".format(accuracy_score(df_test.Label, y_predict)))"
   ]
  },
  {
   "cell_type": "markdown",
   "metadata": {},
   "source": [
    "При различных значениях параметра в методе сингулярного разложения качество классификации остается примерное на одном уровне. Лучшее качество было получено для параметра n_components = 100.\n"
   ]
  },
  {
   "cell_type": "markdown",
   "metadata": {},
   "source": [
    "### RandomForest"
   ]
  },
  {
   "cell_type": "markdown",
   "metadata": {},
   "source": [
    "Для сравнения попробуем использовать для  классификации модель деревьев решений с помощью RandomForest Classifier с параметрами по умолчанию. Во всех остальных методах оставим аналогичные параметры."
   ]
  },
  {
   "cell_type": "code",
   "execution_count": 107,
   "metadata": {
    "collapsed": true
   },
   "outputs": [],
   "source": [
    "from sklearn.ensemble import RandomForestClassifier"
   ]
  },
  {
   "cell_type": "code",
   "execution_count": 115,
   "metadata": {},
   "outputs": [
    {
     "data": {
      "text/plain": [
       "Pipeline(steps=[('vect', CountVectorizer(analyzer='word', binary=False, decode_error='strict',\n",
       "        dtype=<class 'numpy.int64'>, encoding='utf-8', input='content',\n",
       "        lowercase=True, max_df=1.0, max_features=None, min_df=1,\n",
       "        ngram_range=(1, 3), preprocessor=None,\n",
       "        stop_words=['i', 'me',...imators=10, n_jobs=1, oob_score=False, random_state=None,\n",
       "            verbose=0, warm_start=False))])"
      ]
     },
     "execution_count": 115,
     "metadata": {},
     "output_type": "execute_result"
    }
   ],
   "source": [
    "forest = Pipeline([\n",
    "    ('vect', CountVectorizer(stop_words = stopwords_eng, analyzer = 'word', ngram_range = (1,3))),\n",
    "    ('tfidf', TfidfTransformer()),\n",
    "    ('svd', TruncatedSVD(n_components=100)),\n",
    "    #('norm', Normalizer() ),\n",
    "    ('clf', RandomForestClassifier(n_estimators = 10))#n_estimators - количество деревьев \n",
    "])\n",
    "\n",
    "forest.fit(df_train.news, df_train.Label)"
   ]
  },
  {
   "cell_type": "code",
   "execution_count": 116,
   "metadata": {
    "collapsed": true
   },
   "outputs": [],
   "source": [
    "predictions = forest.predict(df_test.news)"
   ]
  },
  {
   "cell_type": "code",
   "execution_count": 117,
   "metadata": {},
   "outputs": [
    {
     "name": "stdout",
     "output_type": "stream",
     "text": [
      "F1-measure:   0.67\n",
      "Accuracy:   0.55\n"
     ]
    }
   ],
   "source": [
    "print(\"F1-measure: {0:6.2f}\".format(f1_score(df_test.Label, predictions)))\n",
    "print(\"Accuracy: {0:6.2f}\".format(accuracy_score(df_test.Label, predictions)))"
   ]
  },
  {
   "cell_type": "markdown",
   "metadata": {},
   "source": [
    "Классификатор RandomForest дает такое же значение F-меры (67%), в то время как значение Accuracy немного повысилось (с 52 до 55%) по сравнению с качеством классификации LinearSVC."
   ]
  },
  {
   "cell_type": "markdown",
   "metadata": {},
   "source": [
    "## Часть 3. Другие методы извлечения признаков"
   ]
  },
  {
   "cell_type": "markdown",
   "metadata": {},
   "source": [
    "Попробуем использовать в качестве признаков скрытые темы. Тематическое моделирование предназначено для выявляения тем документов в коллекции на основе вероятностного распределения слов по темам (каждая тема порождает определенные слова с некоторыми вероятностями). \n",
    "<br>\n",
    "<br>\n",
    "Для тематического моделирования используем LatentDirichletAllocation из sklearn.decomposition. В результате применения модели LDA признаками каждого документа становятся скрытые темы (принадлежность документа к теме). "
   ]
  },
  {
   "cell_type": "code",
   "execution_count": 154,
   "metadata": {
    "collapsed": true
   },
   "outputs": [],
   "source": [
    "from sklearn.decomposition import LatentDirichletAllocation"
   ]
  },
  {
   "cell_type": "code",
   "execution_count": 156,
   "metadata": {
    "collapsed": true
   },
   "outputs": [],
   "source": [
    "#функция вывода тематических слов (с сайта sklearn)\n",
    "def print_top_words(model, feature_names, n_top_words):\n",
    "    for topic_idx, topic in enumerate(model.components_):\n",
    "        message = \"Topic #%d: \" % topic_idx\n",
    "        message += \" \".join([feature_names[i] for i in topic.argsort()[:-n_top_words - 1:-1]])\n",
    "        print(message)\n",
    "    print()"
   ]
  },
  {
   "cell_type": "markdown",
   "metadata": {},
   "source": [
    "Векторизуем тексты с использованием tf-idf представления."
   ]
  },
  {
   "cell_type": "code",
   "execution_count": 183,
   "metadata": {},
   "outputs": [],
   "source": [
    "tf_vect = TfidfVectorizer(stop_words = stopwords_eng)"
   ]
  },
  {
   "cell_type": "code",
   "execution_count": 184,
   "metadata": {},
   "outputs": [],
   "source": [
    "tf_train = tf_vect.fit_transform(df_train.news)"
   ]
  },
  {
   "cell_type": "code",
   "execution_count": 185,
   "metadata": {
    "collapsed": true
   },
   "outputs": [],
   "source": [
    "tf_test = tf_vect.transform(df_test.news)"
   ]
  },
  {
   "cell_type": "markdown",
   "metadata": {},
   "source": [
    "Модель LDA (параметр n_topics=100 задает число скрытых тем, которые хотим выделить в корпусе текстов):"
   ]
  },
  {
   "cell_type": "code",
   "execution_count": 197,
   "metadata": {},
   "outputs": [],
   "source": [
    "lda = LatentDirichletAllocation(n_topics=100, max_iter=5, learning_method='online', learning_offset=50., random_state=0)"
   ]
  },
  {
   "cell_type": "code",
   "execution_count": 198,
   "metadata": {},
   "outputs": [],
   "source": [
    "lda_train = lda.fit_transform(tf_train)#обучение модели"
   ]
  },
  {
   "cell_type": "markdown",
   "metadata": {},
   "source": [
    "Выведем 5 наиболее значимых тематических слов для каждой темы:"
   ]
  },
  {
   "cell_type": "code",
   "execution_count": 199,
   "metadata": {},
   "outputs": [
    {
     "name": "stdout",
     "output_type": "stream",
     "text": [
      "Topic #0: bnp mint libya unthinkable identified\n",
      "Topic #1: israel gaza bouba plummet swastikas\n",
      "Topic #2: ruled baku unique condemnable acronym\n",
      "Topic #3: us police butter china government\n",
      "Topic #4: outside arrows meinhof neonicotinoids repeated\n",
      "Topic #5: debt germany iran killed afghanistan\n",
      "Topic #6: minh hardball goldman juifs humane\n",
      "Topic #7: georgia swine remote status subway\n",
      "Topic #8: hamas grandes decade dubai egypt\n",
      "Topic #9: libya china heaven paternity breivik\n",
      "Topic #10: headhunters congo implosion advising authorise\n",
      "Topic #11: mubarak world israel mubaraks us\n",
      "Topic #12: tank bahari redevelopment men san\n",
      "Topic #13: oslo minarets baruch communists ghanam\n",
      "Topic #14: underdog heed downers pyromaniacs overcrowding\n",
      "Topic #15: bloodbath vitamins half assignment choping\n",
      "Topic #16: libya war protest police china\n",
      "Topic #17: today somewhere iran mentality consistent\n",
      "Topic #18: assange arabias ratenumber iranian beings\n",
      "Topic #19: floyd fizzes stallman globish musk\n",
      "Topic #20: us israeli gaza wikileaks cover\n",
      "Topic #21: inferno grassroots taser beating predates\n",
      "Topic #22: portuguese due bar appointed solidified\n",
      "Topic #23: iran stop min us could\n",
      "Topic #24: gaza finns ridings boulder aziz\n",
      "Topic #25: iran honduras burying driving owner\n",
      "Topic #26: openned eman submersible associated nuse\n",
      "Topic #27: lebanons egyptian christie west neighbor\n",
      "Topic #28: us israel world russia china\n",
      "Topic #29: genocide receiver single forgets disturbingly\n",
      "Topic #30: tunisia vulnerabilities smallpox wimps acknowledgment\n",
      "Topic #31: government oil us china two\n",
      "Topic #32: zelaya goddard compensation wifi broke\n",
      "Topic #33: israeli say mubarak us government\n",
      "Topic #34: haiti bubble quell fuss operatic\n",
      "Topic #35: walsh israel lapdance muntazer recognised\n",
      "Topic #36: afghani tried sgt munadi clamp\n",
      "Topic #37: qaeda former us one bin\n",
      "Topic #38: kiwi siberia beached marchs madam\n",
      "Topic #39: radiohead gained pla parkinson hurdler\n",
      "Topic #40: breakdown audition research go showed\n",
      "Topic #41: seeing attacks ballooned bulgaria independent\n",
      "Topic #42: people us mumbai israeli gaza\n",
      "Topic #43: realising eavesdropped heckofa burried bskyb\n",
      "Topic #44: luck iranian extradited untargeted breaking\n",
      "Topic #45: displayed scrolls lazy groans debasing\n",
      "Topic #46: hammond adl friedman war heating\n",
      "Topic #47: universes newsprint shaolin kitchen coral\n",
      "Topic #48: japan china police us nuclear\n",
      "Topic #49: lucas make accessible curb pollutants\n",
      "Topic #50: us credence filters honeybees observant\n",
      "Topic #51: separatism tokyo regulate natural fo\n",
      "Topic #52: wikileaks assange informal prosecution government\n",
      "Topic #53: israel aftr gaza inverness us\n",
      "Topic #54: deutsche taser substituting dodgers bare\n",
      "Topic #55: gassed gaza minister region menu\n",
      "Topic #56: flotilla gaza alaska israel interview\n",
      "Topic #57: states us park like primate\n",
      "Topic #58: egypt amanda uk urge undivided\n",
      "Topic #59: iceland neutrality borrow get extinction\n",
      "Topic #60: pasdaran scanner bemoan divinity gra\n",
      "Topic #61: photoshop wechat bankrupt disturbance uk\n",
      "Topic #62: bulldozed ayoreo dream corpse poured\n",
      "Topic #63: israel iran world us china\n",
      "Topic #64: gets un disgrace blogging conspicuously\n",
      "Topic #65: blade akin vnukovo pulling boxer\n",
      "Topic #66: bin egyptian laden forbidden russia\n",
      "Topic #67: situations scene mistrusted boarding feat\n",
      "Topic #68: gaza nothing breaks instagram attend\n",
      "Topic #69: create condeming lurched technique pts\n",
      "Topic #70: gaza israel english wikileaks orphanage\n",
      "Topic #71: killed parliament release israel princesss\n",
      "Topic #72: booyakasha sao gerald understanding delegations\n",
      "Topic #73: israel world assange iran luggage\n",
      "Topic #74: man stature sanchez languishes kaku\n",
      "Topic #75: wikileaks widowed cybersecurity vids principality\n",
      "Topic #76: israeli even legal resignation trafigura\n",
      "Topic #77: wonga forgot conservationst tmiddle patricks\n",
      "Topic #78: trudeau startling assertive missed cage\n",
      "Topic #79: making activists move government rookie\n",
      "Topic #80: cornflour turkey nanti lockerbie tools\n",
      "Topic #81: nikolay devices nightfall household profit\n",
      "Topic #82: two incarceration order hindley decriminalizing\n",
      "Topic #83: allegedly pardoned conceived ripe cid\n",
      "Topic #84: gaddafi wikileaks israel government gaza\n",
      "Topic #85: fine nations nauseating bosch tires\n",
      "Topic #86: peninsula vows israel era scud\n",
      "Topic #87: linked gaza faiths balkans commercialization\n",
      "Topic #88: libelling alberto pens hunter decrypt\n",
      "Topic #89: pill slams aux colombia mediterranean\n",
      "Topic #90: eduard gunfight essentially uyghurs freddie\n",
      "Topic #91: torturers bnp denmarks accesses transaction\n",
      "Topic #92: mubarak dnd blackmail berger georgia\n",
      "Topic #93: riots london video police world\n",
      "Topic #94: nikshich figures israeli sahara gaza\n",
      "Topic #95: layers repackaged supplies spans greatest\n",
      "Topic #96: parthenon program electrocuting million luger\n",
      "Topic #97: gaza tabloid bailout travel ranging\n",
      "Topic #98: earnestly jan chillingly benedict coup\n",
      "Topic #99: us israeli moir spitting israel\n",
      "\n"
     ]
    }
   ],
   "source": [
    "tf_feature_names = tf_vect.get_feature_names()\n",
    "n_top_words = 5\n",
    "print_top_words(lda, tf_feature_names, n_top_words)"
   ]
  },
  {
   "cell_type": "markdown",
   "metadata": {},
   "source": [
    "Многие темы можно интерпретировать по наиболее значимым словам."
   ]
  },
  {
   "cell_type": "code",
   "execution_count": 201,
   "metadata": {
    "collapsed": true
   },
   "outputs": [],
   "source": [
    "lda_test = lda.transform(tf_test)#трансформируем тестовые данные в новое пространство признаков"
   ]
  },
  {
   "cell_type": "markdown",
   "metadata": {},
   "source": [
    "Попробуем провести классификацию LinearSVC с использованием полученных признаков:"
   ]
  },
  {
   "cell_type": "code",
   "execution_count": 204,
   "metadata": {},
   "outputs": [
    {
     "name": "stdout",
     "output_type": "stream",
     "text": [
      "F1-measure:   0.67\n",
      "Accuracy:   0.51\n"
     ]
    }
   ],
   "source": [
    "clf = LinearSVC()\n",
    "\n",
    "clf.fit(lda_train, df_train.Label)\n",
    "y_predict = clf.predict(lda_test)\n",
    "\n",
    "print(\"F1-measure: {0:6.2f}\".format(f1_score(df_test.Label, y_predict)))\n",
    "print(\"Accuracy: {0:6.2f}\".format(accuracy_score(df_test.Label, y_predict)))"
   ]
  },
  {
   "cell_type": "markdown",
   "metadata": {},
   "source": [
    "В результате использования скрытых тем в качестве признаков не удалось повысить качество классификации, оно осталось на том же уровне. Однако тематические модели предоставляют простор для возможного улучшения классифкации (можно попробовать повысить качество тематической модели LDA за счет настройки параметров в процессе обучения, либо можно использовать другие тематические модели, более подходящие для коллекции коротких текстов, например Biterm Topic Modelling). "
   ]
  },
  {
   "cell_type": "code",
   "execution_count": null,
   "metadata": {
    "collapsed": true
   },
   "outputs": [],
   "source": []
  }
 ],
 "metadata": {
  "kernelspec": {
   "display_name": "Python 3",
   "language": "python",
   "name": "python3"
  },
  "language_info": {
   "codemirror_mode": {
    "name": "ipython",
    "version": 3
   },
   "file_extension": ".py",
   "mimetype": "text/x-python",
   "name": "python",
   "nbconvert_exporter": "python",
   "pygments_lexer": "ipython3",
   "version": "3.5.3"
  }
 },
 "nbformat": 4,
 "nbformat_minor": 2
}
