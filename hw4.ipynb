{
 "cells": [
  {
   "cell_type": "markdown",
   "metadata": {},
   "source": [
    "# Домашнее задание 3 [10 баллов]\n",
    "\n",
    "\n",
    "# До 27.03.18 23:59\n",
    "\n",
    "Рассмотрим задачу бинарной классификации. Пусть дано два списка имен: мужские и женские имена. Требуется разработать классификатор, который по данному имени будет определять мужское оно или женское.\n",
    "\n",
    "Данные: \n",
    "* Женские имена: female.txt\n",
    "* Мужские имена: male.txt"
   ]
  },
  {
   "cell_type": "markdown",
   "metadata": {},
   "source": [
    "## Часть 1. Предварительная\n",
    "\n",
    "### Предварительная обработка данных [2 балла]\n",
    "\n",
    "1. Удалите неоднозначные имена (те имена, которые являются и мужскими, и женскими дновременно), если такие есть; \n",
    "2. Создайте обучающее и тестовое множество так, чтобы в обучающем множестве классы были сбалансированы, т.е. к классу принадлежало бы одинаковое количество имен;"
   ]
  },
  {
   "cell_type": "code",
   "execution_count": 1,
   "metadata": {
    "collapsed": true
   },
   "outputs": [],
   "source": [
    "import sys\n",
    "sys.path.append('C:\\Program Files\\Anaconda3\\Lib\\site-packages')"
   ]
  },
  {
   "cell_type": "code",
   "execution_count": 2,
   "metadata": {
    "collapsed": true
   },
   "outputs": [],
   "source": [
    "import numpy as np\n",
    "from sklearn.model_selection import train_test_split"
   ]
  },
  {
   "cell_type": "code",
   "execution_count": 3,
   "metadata": {
    "collapsed": true
   },
   "outputs": [],
   "source": [
    "def slurp(path):\n",
    "    with open(path, 'r') as fo:\n",
    "        return fo.readlines()"
   ]
  },
  {
   "cell_type": "code",
   "execution_count": 222,
   "metadata": {
    "collapsed": true
   },
   "outputs": [],
   "source": [
    "female_path = '/home/nst/mount/data/linguistics_hse/machine_learning/ML-for-compling-teacher/hw4_names/female.txt'\n",
    "male_path = '/home/nst/mount/data/linguistics_hse/machine_learning/ML-for-compling-teacher/hw4_names/male.txt'"
   ]
  },
  {
   "cell_type": "code",
   "execution_count": 4,
   "metadata": {
    "collapsed": true
   },
   "outputs": [],
   "source": [
    "female_path = 'C:/Users/Анна/Dropbox/ML_sent/hw4_names/female.txt'\n",
    "male_path = 'C:/Users/Анна/Dropbox/ML_sent/hw4_names/male.txt'"
   ]
  },
  {
   "cell_type": "markdown",
   "metadata": {},
   "source": [
    "### Удалим неоднозначные имена"
   ]
  },
  {
   "cell_type": "code",
   "execution_count": 5,
   "metadata": {},
   "outputs": [
    {
     "name": "stdout",
     "output_type": "stream",
     "text": [
      "Females: 5001\n",
      "Males: 2943\n",
      "Drop females: 4636\n",
      "Drop males: 2578\n"
     ]
    }
   ],
   "source": [
    "females = slurp(female_path)\n",
    "males = slurp(male_path)\n",
    "print('Females:', len(females))\n",
    "print('Males:', len(males))\n",
    "\n",
    "def drop_duplicates(f_list, m_list):\n",
    "    males = [name.rstrip() for name in m_list if name not in f_list]\n",
    "    females = [name.rstrip() for name in f_list if name not in m_list]\n",
    "    print('Drop females:', len(females))\n",
    "    print('Drop males:', len(males))\n",
    "    return females, males\n",
    "\n",
    "drop_females, drop_males = drop_duplicates(females, males)"
   ]
  },
  {
   "cell_type": "markdown",
   "metadata": {},
   "source": [
    "### Обучающее и тестовое множество"
   ]
  },
  {
   "cell_type": "code",
   "execution_count": 6,
   "metadata": {
    "collapsed": true
   },
   "outputs": [],
   "source": [
    "def make_class_markers(f_list, m_list):\n",
    "    female_class = [(1, name) for name in f_list]\n",
    "    male_class = [(0, name) for name in m_list]\n",
    "    return female_class, male_class\n",
    "\n",
    "def split_train_test(f_list, m_list):\n",
    "    f, m = make_class_markers(f_list, m_list)\n",
    "    \n",
    "    fnames = [name for num, name in f]\n",
    "    fmarks = [num for num, name in f]\n",
    "    \n",
    "    mnames = [name for num, name in m]\n",
    "    mmarks = [num for num, name in m]\n",
    "    # Split the second part of the train set proportionally and join train/test sets\n",
    "    if len(f) < len(m):\n",
    "        X_train, X_test, y_train, y_test = train_test_split(fnames, fmarks, \n",
    "                                            test_size=0.3, random_state=42)\n",
    "        X_mtrain = mnames[:len(X_train)+1]\n",
    "        y_mtrain = mmarks[:len(X_train)+1]\n",
    "        \n",
    "        X_mtest = mnames[len(X_train):]\n",
    "        y_mtest = mmarks[len(X_train):]\n",
    "        \n",
    "        X_train += X_mtrain\n",
    "        X_test += X_mtest\n",
    "        \n",
    "        y_train += y_mtrain\n",
    "        y_test += y_mtest\n",
    "        \n",
    "    else:\n",
    "        X_train, X_test, y_train, y_test = train_test_split(mnames, mmarks, \n",
    "                                            test_size=0.3, random_state=42)\n",
    "        X_ftrain = fnames[:len(X_train)+1]\n",
    "        y_ftrain = fmarks[:len(X_train)+1]\n",
    "        \n",
    "        X_ftest = fnames[len(X_train):]\n",
    "        y_ftest = fmarks[len(X_train):]\n",
    "        \n",
    "        X_train += X_ftrain\n",
    "        X_test += X_ftest\n",
    "        \n",
    "        y_train += y_ftrain\n",
    "        y_test += y_ftest\n",
    "    return X_train, X_test, y_train, y_test"
   ]
  },
  {
   "cell_type": "code",
   "execution_count": 7,
   "metadata": {
    "collapsed": true
   },
   "outputs": [],
   "source": [
    "X_train, X_test, y_train, y_test = split_train_test(drop_females, drop_males)"
   ]
  },
  {
   "cell_type": "code",
   "execution_count": 8,
   "metadata": {},
   "outputs": [
    {
     "name": "stdout",
     "output_type": "stream",
     "text": [
      "3609 3606\n"
     ]
    }
   ],
   "source": [
    "print(len(X_train), len(X_test))"
   ]
  },
  {
   "cell_type": "markdown",
   "metadata": {},
   "source": [
    "##  Часть 2. Базовая \n",
    "\n",
    "### Базовый метод классификации [3 балла]\n",
    "\n",
    "Используйте метод наивного Байеса или логистическую регрессию для классификации имен: в качестве признаков используйте символьные $n$-граммы. Сравните результаты, получаемые при разных $n=2,3,4$ по $F$-мере и аккуратности. В каких случаях метод ошибается?\n",
    "\n",
    "Для генерации $n$-грамм используйте:"
   ]
  },
  {
   "cell_type": "code",
   "execution_count": 20,
   "metadata": {
    "collapsed": true
   },
   "outputs": [],
   "source": [
    "import nltk\n",
    "from nltk.util import ngrams\n",
    "from sklearn.naive_bayes import MultinomialNB\n",
    "from sklearn.metrics import f1_score\n",
    "from sklearn.metrics import accuracy_score\n",
    "from sklearn.feature_extraction.text import CountVectorizer\n",
    "from sklearn.metrics import classification_report, confusion_matrix\n",
    "import seaborn as sns\n",
    "import matplotlib.pyplot as plt"
   ]
  },
  {
   "cell_type": "markdown",
   "metadata": {},
   "source": [
    "### Multinomial NB with bigrams"
   ]
  },
  {
   "cell_type": "code",
   "execution_count": 10,
   "metadata": {},
   "outputs": [
    {
     "data": {
      "text/plain": [
       "MultinomialNB(alpha=0.001, class_prior=None, fit_prior=True)"
      ]
     },
     "execution_count": 10,
     "metadata": {},
     "output_type": "execute_result"
    }
   ],
   "source": [
    "bigram_vect = CountVectorizer(ngram_range = [2,2], analyzer = 'char_wb')\n",
    "X_train_bigram = bigram_vect.fit_transform(X_train)\n",
    "X_test_bigram = bigram_vect.transform(X_test)\n",
    "\n",
    "classifier_2 = MultinomialNB(alpha=0.001)\n",
    "classifier_2.fit(X_train_bigram, y_train)"
   ]
  },
  {
   "cell_type": "code",
   "execution_count": 11,
   "metadata": {
    "collapsed": true
   },
   "outputs": [],
   "source": [
    "y_predict_bigrams = classifier_2.predict(X_test_bigram)"
   ]
  },
  {
   "cell_type": "code",
   "execution_count": 12,
   "metadata": {},
   "outputs": [
    {
     "name": "stdout",
     "output_type": "stream",
     "text": [
      "Accuracy score: 0.205768164171\n",
      "F-score: 0.0369872225958\n"
     ]
    }
   ],
   "source": [
    "print('Accuracy score:', accuracy_score(y_test, y_predict_bigrams))\n",
    "print('F-score:', f1_score(y_test, y_predict_bigrams))"
   ]
  },
  {
   "cell_type": "code",
   "execution_count": 21,
   "metadata": {},
   "outputs": [
    {
     "name": "stdout",
     "output_type": "stream",
     "text": [
      "             precision    recall  f1-score   support\n",
      "\n",
      "          0       0.20      0.89      0.32       774\n",
      "          1       0.39      0.02      0.04      2832\n",
      "\n",
      "avg / total       0.35      0.21      0.10      3606\n",
      "\n"
     ]
    },
    {
     "data": {
      "image/png": "[encoded data removed]",
      "text/plain": [
       "<matplotlib.figure.Figure at 0xd1017f0>"
      ]
     },
     "metadata": {},
     "output_type": "display_data"
    }
   ],
   "source": [
    "labels = list(set(y_test))\n",
    "print(classification_report(y_test, y_predict_bigrams))\n",
    "sns.heatmap(data=confusion_matrix(y_test, y_predict_bigrams, labels = labels), \n",
    "            annot=True, fmt=\"d\", cbar=False, xticklabels=['male', 'female'], \n",
    "                                             yticklabels=['male', 'female'])\n",
    "plt.title(\"Confusion matrix\")\n",
    "plt.show()"
   ]
  },
  {
   "cell_type": "markdown",
   "metadata": {},
   "source": [
    "### Multinomial NB with trigrams"
   ]
  },
  {
   "cell_type": "code",
   "execution_count": 22,
   "metadata": {},
   "outputs": [
    {
     "data": {
      "text/plain": [
       "MultinomialNB(alpha=0.001, class_prior=None, fit_prior=True)"
      ]
     },
     "execution_count": 22,
     "metadata": {},
     "output_type": "execute_result"
    }
   ],
   "source": [
    "trigram_vect = CountVectorizer(ngram_range = [3,3], analyzer = 'char_wb')\n",
    "X_train_trigram = trigram_vect.fit_transform(X_train)\n",
    "X_test_trigram = trigram_vect.transform(X_test)\n",
    "\n",
    "classifier_3 = MultinomialNB(alpha=0.001)\n",
    "classifier_3.fit(X_train_trigram, y_train)"
   ]
  },
  {
   "cell_type": "code",
   "execution_count": 23,
   "metadata": {
    "collapsed": true
   },
   "outputs": [],
   "source": [
    "y_predict_trigrams = classifier_3.predict(X_test_trigram)"
   ]
  },
  {
   "cell_type": "code",
   "execution_count": 24,
   "metadata": {},
   "outputs": [
    {
     "name": "stdout",
     "output_type": "stream",
     "text": [
      "Accuracy score: 0.357737104825\n",
      "F-score: 0.337528604119\n"
     ]
    }
   ],
   "source": [
    "print('Accuracy score:', accuracy_score(y_test, y_predict_trigrams))\n",
    "print('F-score:', f1_score(y_test, y_predict_trigrams))"
   ]
  },
  {
   "cell_type": "code",
   "execution_count": 25,
   "metadata": {},
   "outputs": [
    {
     "name": "stdout",
     "output_type": "stream",
     "text": [
      "             precision    recall  f1-score   support\n",
      "\n",
      "          0       0.24      0.90      0.38       774\n",
      "          1       0.89      0.21      0.34      2832\n",
      "\n",
      "avg / total       0.75      0.36      0.35      3606\n",
      "\n"
     ]
    },
    {
     "data": {
      "image/png": "[encoded data removed]",
      "text/plain": [
       "<matplotlib.figure.Figure at 0xd3552b0>"
      ]
     },
     "metadata": {},
     "output_type": "display_data"
    }
   ],
   "source": [
    "labels = list(set(y_test))\n",
    "print(classification_report(y_test, y_predict_trigrams))\n",
    "sns.heatmap(data=confusion_matrix(y_test, y_predict_trigrams, labels = labels), \n",
    "            annot=True, fmt=\"d\", cbar=False, xticklabels=['male', 'female'], \n",
    "                                             yticklabels=['male', 'female'])\n",
    "plt.title(\"Confusion matrix\")\n",
    "plt.show()"
   ]
  },
  {
   "cell_type": "markdown",
   "metadata": {},
   "source": [
    "### Multinomial NB with 4-grams"
   ]
  },
  {
   "cell_type": "code",
   "execution_count": 26,
   "metadata": {},
   "outputs": [
    {
     "data": {
      "text/plain": [
       "MultinomialNB(alpha=0.001, class_prior=None, fit_prior=True)"
      ]
     },
     "execution_count": 26,
     "metadata": {},
     "output_type": "execute_result"
    }
   ],
   "source": [
    "fourgram_vect = CountVectorizer(ngram_range = [4,4], analyzer = 'char_wb')\n",
    "X_train_fourgram = fourgram_vect.fit_transform(X_train)\n",
    "X_test_fourgram = fourgram_vect.transform(X_test)\n",
    "\n",
    "classifier_4 = MultinomialNB(alpha=0.001)\n",
    "classifier_4.fit(X_train_fourgram, y_train)"
   ]
  },
  {
   "cell_type": "code",
   "execution_count": 27,
   "metadata": {
    "collapsed": true
   },
   "outputs": [],
   "source": [
    "y_predict_fourgram = classifier_4.predict(X_test_fourgram)"
   ]
  },
  {
   "cell_type": "code",
   "execution_count": 28,
   "metadata": {},
   "outputs": [
    {
     "name": "stdout",
     "output_type": "stream",
     "text": [
      "Accuracy score: 0.655019412091\n",
      "F-score: 0.732817869416\n"
     ]
    }
   ],
   "source": [
    "print('Accuracy score:', accuracy_score(y_test, y_predict_fourgram))\n",
    "print('F-score:', f1_score(y_test, y_predict_fourgram))"
   ]
  },
  {
   "cell_type": "code",
   "execution_count": 29,
   "metadata": {},
   "outputs": [
    {
     "name": "stdout",
     "output_type": "stream",
     "text": [
      "             precision    recall  f1-score   support\n",
      "\n",
      "          0       0.37      0.85      0.51       774\n",
      "          1       0.94      0.60      0.73      2832\n",
      "\n",
      "avg / total       0.81      0.66      0.69      3606\n",
      "\n"
     ]
    },
    {
     "data": {
      "image/png": "[encoded data removed]",
      "text/plain": [
       "<matplotlib.figure.Figure at 0xd48e1d0>"
      ]
     },
     "metadata": {},
     "output_type": "display_data"
    }
   ],
   "source": [
    "labels = list(set(y_test))\n",
    "print(classification_report(y_test, y_predict_fourgram))\n",
    "sns.heatmap(data=confusion_matrix(y_test, y_predict_fourgram, labels = labels), \n",
    "            annot=True, fmt=\"d\", cbar=False, xticklabels=['male', 'female'], \n",
    "                                             yticklabels=['male', 'female'])\n",
    "plt.title(\"Confusion matrix\")\n",
    "plt.show()"
   ]
  },
  {
   "cell_type": "markdown",
   "metadata": {},
   "source": [
    "Лучший результат классификации методом наивного Байеса был получен для символьных 4-грамм. При этом мужские имена достаточно хорошо определялись при любых н-граммах, а женские имена сильно путаются с мужскими. "
   ]
  },
  {
   "cell_type": "code",
   "execution_count": 33,
   "metadata": {},
   "outputs": [
    {
     "data": {
      "text/plain": [
       "MultinomialNB(alpha=0.001, class_prior=None, fit_prior=True)"
      ]
     },
     "execution_count": 33,
     "metadata": {},
     "output_type": "execute_result"
    }
   ],
   "source": [
    "fivegram_vect = CountVectorizer(ngram_range = [5,5], analyzer = 'char_wb')\n",
    "X_train_fivegram = fivegram_vect.fit_transform(X_train)\n",
    "X_test_fivegram = fivegram_vect.transform(X_test)\n",
    "\n",
    "classifier_5 = MultinomialNB(alpha=0.001)\n",
    "classifier_5.fit(X_train_fivegram, y_train)"
   ]
  },
  {
   "cell_type": "code",
   "execution_count": 34,
   "metadata": {
    "collapsed": true
   },
   "outputs": [],
   "source": [
    "y_predict_fivegram = classifier_5.predict(X_test_fivegram)"
   ]
  },
  {
   "cell_type": "code",
   "execution_count": 35,
   "metadata": {},
   "outputs": [
    {
     "name": "stdout",
     "output_type": "stream",
     "text": [
      "Accuracy score: 0.748197448697\n",
      "F-score: 0.828679245283\n"
     ]
    }
   ],
   "source": [
    "print('Accuracy score:', accuracy_score(y_test, y_predict_fivegram))\n",
    "print('F-score:', f1_score(y_test, y_predict_fivegram))"
   ]
  },
  {
   "cell_type": "code",
   "execution_count": 36,
   "metadata": {},
   "outputs": [
    {
     "name": "stdout",
     "output_type": "stream",
     "text": [
      "             precision    recall  f1-score   support\n",
      "\n",
      "          0       0.44      0.65      0.53       774\n",
      "          1       0.89      0.78      0.83      2832\n",
      "\n",
      "avg / total       0.79      0.75      0.76      3606\n",
      "\n"
     ]
    },
    {
     "data": {
      "image/png": "[encoded data removed]",
      "text/plain": [
       "<matplotlib.figure.Figure at 0xd5ffd68>"
      ]
     },
     "metadata": {},
     "output_type": "display_data"
    }
   ],
   "source": [
    "labels = list(set(y_test))\n",
    "print(classification_report(y_test, y_predict_fivegram))\n",
    "sns.heatmap(data=confusion_matrix(y_test, y_predict_fivegram, labels = labels), \n",
    "            annot=True, fmt=\"d\", cbar=False, xticklabels=['male', 'female'], \n",
    "                                             yticklabels=['male', 'female'])\n",
    "plt.title(\"Confusion matrix\")\n",
    "plt.show()"
   ]
  },
  {
   "cell_type": "markdown",
   "metadata": {},
   "source": [
    "А при использовании 5-грамм уже заметно падает качество определения мужских имен, при этом качество определения женских имен растет."
   ]
  },
  {
   "cell_type": "markdown",
   "metadata": {},
   "source": [
    "##  Часть 3. Нейросетевая \n",
    "\n",
    "### Нейронная сеть [4 балла]\n",
    "\n",
    "\n",
    "Используйте  реккурентную нейронную сеть с  LSTM для решения задачи. В ней может быть несколько слоев с LSTM, несколько слоев c Bidirectional(LSTM).  У нейронной сети один выход, определяющий класс имени. \n",
    "\n",
    "Представление имени для классификации в этом случае: бинарная матрица размера (количество букв в алфавите $\\times$ максимальная длина имени). Обозначим его через $x$. Если первая буква имени a, то $x[1][1] = 1$, если вторая – b, то  $x[2][1] = 1$ – то есть, используется one hot encoding.  \n",
    "\n",
    "Не забудьте про регуляризацию нейронной сети дропаутами. \n",
    "\n",
    "Сравните результаты классификации разными методами. Какой метод лучше и почему?\n",
    "\n",
    "Сравните результаты, получаемые при разных значениях дропаута, разных числах узлов на слоях нейронной сети по $F$-мере и аккуратности. В каких случаях нейронная сеть ошибается?"
   ]
  },
  {
   "cell_type": "markdown",
   "metadata": {},
   "source": [
    "Если совсем не получается запрограммировать нейронную сеть самостоятельно, обратитесь к туториалу тут: https://github.com/divamgupta/lstm-gender-predictor"
   ]
  },
  {
   "cell_type": "code",
   "execution_count": 37,
   "metadata": {},
   "outputs": [
    {
     "name": "stderr",
     "output_type": "stream",
     "text": [
      "Using TensorFlow backend.\n"
     ]
    }
   ],
   "source": [
    "from keras.models import Sequential\n",
    "from keras.layers.core import Dense, Activation, Dropout\n",
    "from keras.layers.recurrent import LSTM\n",
    "from keras import metrics\n",
    "import numpy as np"
   ]
  },
  {
   "cell_type": "code",
   "execution_count": 38,
   "metadata": {},
   "outputs": [
    {
     "data": {
      "text/plain": [
       "15"
      ]
     },
     "execution_count": 38,
     "metadata": {},
     "output_type": "execute_result"
    }
   ],
   "source": [
    "names = drop_males + drop_females\n",
    "max_len_name = max([len(name) for name in names])\n",
    "max_len_name"
   ]
  },
  {
   "cell_type": "code",
   "execution_count": 39,
   "metadata": {},
   "outputs": [
    {
     "name": "stdout",
     "output_type": "stream",
     "text": [
      "Helen-Elizabeth\n",
      "Jean-Christophe\n"
     ]
    }
   ],
   "source": [
    "for name in drop_females + drop_males:\n",
    "    if len(name) ==max_len_name:\n",
    "        print(name)"
   ]
  },
  {
   "cell_type": "code",
   "execution_count": 40,
   "metadata": {
    "collapsed": true
   },
   "outputs": [],
   "source": [
    "alphabet = sorted(list(set([char for name in drop_females + drop_males for char in name])))"
   ]
  },
  {
   "cell_type": "code",
   "execution_count": 41,
   "metadata": {},
   "outputs": [
    {
     "name": "stdout",
     "output_type": "stream",
     "text": [
      "55\n",
      "[' ', \"'\", '-', 'A', 'B', 'C', 'D', 'E', 'F', 'G', 'H', 'I', 'J', 'K', 'L', 'M', 'N', 'O', 'P', 'Q', 'R', 'S', 'T', 'U', 'V', 'W', 'X', 'Y', 'Z', 'a', 'b', 'c', 'd', 'e', 'f', 'g', 'h', 'i', 'j', 'k', 'l', 'm', 'n', 'o', 'p', 'q', 'r', 's', 't', 'u', 'v', 'w', 'x', 'y', 'z']\n"
     ]
    }
   ],
   "source": [
    "print(len(alphabet))\n",
    "print(alphabet)"
   ]
  },
  {
   "cell_type": "code",
   "execution_count": 42,
   "metadata": {},
   "outputs": [
    {
     "name": "stdout",
     "output_type": "stream",
     "text": [
      "Dee Dee\n",
      "Jo Ann\n",
      "Zsa Zsa\n"
     ]
    }
   ],
   "source": [
    "for name in drop_females + drop_males:\n",
    "    if ' ' in name:\n",
    "        print(name)"
   ]
  },
  {
   "cell_type": "code",
   "execution_count": 43,
   "metadata": {},
   "outputs": [
    {
     "data": {
      "text/plain": [
       "{' ': 0,\n",
       " \"'\": 1,\n",
       " '-': 2,\n",
       " 'A': 3,\n",
       " 'B': 4,\n",
       " 'C': 5,\n",
       " 'D': 6,\n",
       " 'E': 7,\n",
       " 'F': 8,\n",
       " 'G': 9,\n",
       " 'H': 10,\n",
       " 'I': 11,\n",
       " 'J': 12,\n",
       " 'K': 13,\n",
       " 'L': 14,\n",
       " 'M': 15,\n",
       " 'N': 16,\n",
       " 'O': 17,\n",
       " 'P': 18,\n",
       " 'Q': 19,\n",
       " 'R': 20,\n",
       " 'S': 21,\n",
       " 'T': 22,\n",
       " 'U': 23,\n",
       " 'V': 24,\n",
       " 'W': 25,\n",
       " 'X': 26,\n",
       " 'Y': 27,\n",
       " 'Z': 28,\n",
       " 'a': 29,\n",
       " 'b': 30,\n",
       " 'c': 31,\n",
       " 'd': 32,\n",
       " 'e': 33,\n",
       " 'f': 34,\n",
       " 'g': 35,\n",
       " 'h': 36,\n",
       " 'i': 37,\n",
       " 'j': 38,\n",
       " 'k': 39,\n",
       " 'l': 40,\n",
       " 'm': 41,\n",
       " 'n': 42,\n",
       " 'o': 43,\n",
       " 'p': 44,\n",
       " 'q': 45,\n",
       " 'r': 46,\n",
       " 's': 47,\n",
       " 't': 48,\n",
       " 'u': 49,\n",
       " 'v': 50,\n",
       " 'w': 51,\n",
       " 'x': 52,\n",
       " 'y': 53,\n",
       " 'z': 54}"
      ]
     },
     "execution_count": 43,
     "metadata": {},
     "output_type": "execute_result"
    }
   ],
   "source": [
    "char_to_index = {char: index for index, char in enumerate(alphabet)}\n",
    "char_to_index"
   ]
  },
  {
   "cell_type": "code",
   "execution_count": 45,
   "metadata": {
    "collapsed": true
   },
   "outputs": [],
   "source": [
    "#encoding name with a matrix (max_len of names)*(len of alphabet)\n",
    "def onehot_encode(name, char_dictionary, max_len):\n",
    "    onehot_matrix = np.zeros((max_len, len(char_dictionary)))\n",
    "    for index, char in enumerate(name):\n",
    "        index_in_alphabet = char_dictionary[char]\n",
    "        onehot_matrix[index][index_in_alphabet] = 1\n",
    "    #return np.array(onehot_matrix).flatten()\n",
    "    return onehot_matrix"
   ]
  },
  {
   "cell_type": "code",
   "execution_count": 46,
   "metadata": {
    "collapsed": true
   },
   "outputs": [],
   "source": [
    "m = onehot_encode('Jean', char_to_index, max_len_name)"
   ]
  },
  {
   "cell_type": "code",
   "execution_count": 47,
   "metadata": {
    "scrolled": true
   },
   "outputs": [
    {
     "name": "stdout",
     "output_type": "stream",
     "text": [
      "[[ 0.  0.  0.  0.  0.  0.  0.  0.  0.  0.  0.  0.  1.  0.  0.  0.  0.  0.\n",
      "   0.  0.  0.  0.  0.  0.  0.  0.  0.  0.  0.  0.  0.  0.  0.  0.  0.  0.\n",
      "   0.  0.  0.  0.  0.  0.  0.  0.  0.  0.  0.  0.  0.  0.  0.  0.  0.  0.\n",
      "   0.]\n",
      " [ 0.  0.  0.  0.  0.  0.  0.  0.  0.  0.  0.  0.  0.  0.  0.  0.  0.  0.\n",
      "   0.  0.  0.  0.  0.  0.  0.  0.  0.  0.  0.  0.  0.  0.  0.  1.  0.  0.\n",
      "   0.  0.  0.  0.  0.  0.  0.  0.  0.  0.  0.  0.  0.  0.  0.  0.  0.  0.\n",
      "   0.]\n",
      " [ 0.  0.  0.  0.  0.  0.  0.  0.  0.  0.  0.  0.  0.  0.  0.  0.  0.  0.\n",
      "   0.  0.  0.  0.  0.  0.  0.  0.  0.  0.  0.  1.  0.  0.  0.  0.  0.  0.\n",
      "   0.  0.  0.  0.  0.  0.  0.  0.  0.  0.  0.  0.  0.  0.  0.  0.  0.  0.\n",
      "   0.]\n",
      " [ 0.  0.  0.  0.  0.  0.  0.  0.  0.  0.  0.  0.  0.  0.  0.  0.  0.  0.\n",
      "   0.  0.  0.  0.  0.  0.  0.  0.  0.  0.  0.  0.  0.  0.  0.  0.  0.  0.\n",
      "   0.  0.  0.  0.  0.  0.  1.  0.  0.  0.  0.  0.  0.  0.  0.  0.  0.  0.\n",
      "   0.]\n",
      " [ 0.  0.  0.  0.  0.  0.  0.  0.  0.  0.  0.  0.  0.  0.  0.  0.  0.  0.\n",
      "   0.  0.  0.  0.  0.  0.  0.  0.  0.  0.  0.  0.  0.  0.  0.  0.  0.  0.\n",
      "   0.  0.  0.  0.  0.  0.  0.  0.  0.  0.  0.  0.  0.  0.  0.  0.  0.  0.\n",
      "   0.]\n",
      " [ 0.  0.  0.  0.  0.  0.  0.  0.  0.  0.  0.  0.  0.  0.  0.  0.  0.  0.\n",
      "   0.  0.  0.  0.  0.  0.  0.  0.  0.  0.  0.  0.  0.  0.  0.  0.  0.  0.\n",
      "   0.  0.  0.  0.  0.  0.  0.  0.  0.  0.  0.  0.  0.  0.  0.  0.  0.  0.\n",
      "   0.]\n",
      " [ 0.  0.  0.  0.  0.  0.  0.  0.  0.  0.  0.  0.  0.  0.  0.  0.  0.  0.\n",
      "   0.  0.  0.  0.  0.  0.  0.  0.  0.  0.  0.  0.  0.  0.  0.  0.  0.  0.\n",
      "   0.  0.  0.  0.  0.  0.  0.  0.  0.  0.  0.  0.  0.  0.  0.  0.  0.  0.\n",
      "   0.]\n",
      " [ 0.  0.  0.  0.  0.  0.  0.  0.  0.  0.  0.  0.  0.  0.  0.  0.  0.  0.\n",
      "   0.  0.  0.  0.  0.  0.  0.  0.  0.  0.  0.  0.  0.  0.  0.  0.  0.  0.\n",
      "   0.  0.  0.  0.  0.  0.  0.  0.  0.  0.  0.  0.  0.  0.  0.  0.  0.  0.\n",
      "   0.]\n",
      " [ 0.  0.  0.  0.  0.  0.  0.  0.  0.  0.  0.  0.  0.  0.  0.  0.  0.  0.\n",
      "   0.  0.  0.  0.  0.  0.  0.  0.  0.  0.  0.  0.  0.  0.  0.  0.  0.  0.\n",
      "   0.  0.  0.  0.  0.  0.  0.  0.  0.  0.  0.  0.  0.  0.  0.  0.  0.  0.\n",
      "   0.]\n",
      " [ 0.  0.  0.  0.  0.  0.  0.  0.  0.  0.  0.  0.  0.  0.  0.  0.  0.  0.\n",
      "   0.  0.  0.  0.  0.  0.  0.  0.  0.  0.  0.  0.  0.  0.  0.  0.  0.  0.\n",
      "   0.  0.  0.  0.  0.  0.  0.  0.  0.  0.  0.  0.  0.  0.  0.  0.  0.  0.\n",
      "   0.]\n",
      " [ 0.  0.  0.  0.  0.  0.  0.  0.  0.  0.  0.  0.  0.  0.  0.  0.  0.  0.\n",
      "   0.  0.  0.  0.  0.  0.  0.  0.  0.  0.  0.  0.  0.  0.  0.  0.  0.  0.\n",
      "   0.  0.  0.  0.  0.  0.  0.  0.  0.  0.  0.  0.  0.  0.  0.  0.  0.  0.\n",
      "   0.]\n",
      " [ 0.  0.  0.  0.  0.  0.  0.  0.  0.  0.  0.  0.  0.  0.  0.  0.  0.  0.\n",
      "   0.  0.  0.  0.  0.  0.  0.  0.  0.  0.  0.  0.  0.  0.  0.  0.  0.  0.\n",
      "   0.  0.  0.  0.  0.  0.  0.  0.  0.  0.  0.  0.  0.  0.  0.  0.  0.  0.\n",
      "   0.]\n",
      " [ 0.  0.  0.  0.  0.  0.  0.  0.  0.  0.  0.  0.  0.  0.  0.  0.  0.  0.\n",
      "   0.  0.  0.  0.  0.  0.  0.  0.  0.  0.  0.  0.  0.  0.  0.  0.  0.  0.\n",
      "   0.  0.  0.  0.  0.  0.  0.  0.  0.  0.  0.  0.  0.  0.  0.  0.  0.  0.\n",
      "   0.]\n",
      " [ 0.  0.  0.  0.  0.  0.  0.  0.  0.  0.  0.  0.  0.  0.  0.  0.  0.  0.\n",
      "   0.  0.  0.  0.  0.  0.  0.  0.  0.  0.  0.  0.  0.  0.  0.  0.  0.  0.\n",
      "   0.  0.  0.  0.  0.  0.  0.  0.  0.  0.  0.  0.  0.  0.  0.  0.  0.  0.\n",
      "   0.]\n",
      " [ 0.  0.  0.  0.  0.  0.  0.  0.  0.  0.  0.  0.  0.  0.  0.  0.  0.  0.\n",
      "   0.  0.  0.  0.  0.  0.  0.  0.  0.  0.  0.  0.  0.  0.  0.  0.  0.  0.\n",
      "   0.  0.  0.  0.  0.  0.  0.  0.  0.  0.  0.  0.  0.  0.  0.  0.  0.  0.\n",
      "   0.]]\n"
     ]
    }
   ],
   "source": [
    "print(m)"
   ]
  },
  {
   "cell_type": "code",
   "execution_count": 48,
   "metadata": {
    "scrolled": true
   },
   "outputs": [
    {
     "data": {
      "text/plain": [
       "(15, 55)"
      ]
     },
     "execution_count": 48,
     "metadata": {},
     "output_type": "execute_result"
    }
   ],
   "source": [
    "m.shape "
   ]
  },
  {
   "cell_type": "code",
   "execution_count": 49,
   "metadata": {
    "collapsed": true
   },
   "outputs": [],
   "source": [
    "X_train_encoded = np.array([onehot_encode(name, char_to_index, max_len_name) for name in X_train])\n",
    "X_test_encoded = np.array([onehot_encode(name, char_to_index, max_len_name) for name in X_test])"
   ]
  },
  {
   "cell_type": "code",
   "execution_count": 50,
   "metadata": {
    "scrolled": true
   },
   "outputs": [
    {
     "name": "stdout",
     "output_type": "stream",
     "text": [
      "(3606, 15, 55) (3609, 15, 55)\n"
     ]
    }
   ],
   "source": [
    "print(X_test_encoded.shape, X_train_encoded.shape)"
   ]
  },
  {
   "cell_type": "code",
   "execution_count": 51,
   "metadata": {
    "collapsed": true
   },
   "outputs": [],
   "source": [
    "Y_train = np.zeros((len(X_train), 2))\n",
    "for i, y in enumerate(y_train):\n",
    "    if y:\n",
    "        Y_train[i][0] =1 #female coding (1,0)\n",
    "    else:\n",
    "        Y_train[i][1] =1 #male (0,1)"
   ]
  },
  {
   "cell_type": "code",
   "execution_count": 52,
   "metadata": {},
   "outputs": [
    {
     "data": {
      "text/plain": [
       "array([[ 0.,  1.],\n",
       "       [ 0.,  1.],\n",
       "       [ 0.,  1.],\n",
       "       ..., \n",
       "       [ 1.,  0.],\n",
       "       [ 1.,  0.],\n",
       "       [ 1.,  0.]])"
      ]
     },
     "execution_count": 52,
     "metadata": {},
     "output_type": "execute_result"
    }
   ],
   "source": [
    "Y_train"
   ]
  },
  {
   "cell_type": "markdown",
   "metadata": {},
   "source": [
    "## Строим сеть"
   ]
  },
  {
   "cell_type": "markdown",
   "metadata": {},
   "source": [
    "### Model 1. LSTM \n",
    "- Два слоя с 128 нейронами;\n",
    "- Dropout 0.2"
   ]
  },
  {
   "cell_type": "code",
   "execution_count": 53,
   "metadata": {
    "collapsed": true
   },
   "outputs": [],
   "source": [
    "from keras.models import Sequential\n",
    "from keras.layers.core import Dense, Activation, Dropout\n",
    "from keras.layers.recurrent import LSTM\n",
    "from keras.layers import Bidirectional"
   ]
  },
  {
   "cell_type": "code",
   "execution_count": 54,
   "metadata": {
    "collapsed": true
   },
   "outputs": [],
   "source": [
    "model = Sequential()\n",
    "model.add(LSTM(128, return_sequences=True, input_shape=(max_len_name, len(alphabet))))\n",
    "model.add(Dropout(0.2))\n",
    "model.add(LSTM(128, return_sequences=False))\n",
    "model.add(Dropout(0.2))\n",
    "model.add(Dense(2))\n",
    "model.add(Activation('softmax'))\n",
    "\n",
    "#model.compile(loss='binary_crossentropy', optimizer='rmsprop')\n",
    "model.compile(loss='categorical_crossentropy', optimizer='adam', metrics=['accuracy'])"
   ]
  },
  {
   "cell_type": "code",
   "execution_count": 55,
   "metadata": {},
   "outputs": [
    {
     "name": "stderr",
     "output_type": "stream",
     "text": [
      "C:\\Program Files\\Anaconda3\\envs\\mllecture\\lib\\site-packages\\keras\\models.py:848: UserWarning: The `nb_epoch` argument in `fit` has been renamed `epochs`.\n",
      "  warnings.warn('The `nb_epoch` argument in `fit` '\n"
     ]
    },
    {
     "name": "stdout",
     "output_type": "stream",
     "text": [
      "Epoch 1/5\n",
      "3609/3609 [==============================] - 28s - loss: 0.3980 - acc: 0.7977    \n",
      "Epoch 2/5\n",
      "3609/3609 [==============================] - 24s - loss: 0.3010 - acc: 0.8651    \n",
      "Epoch 3/5\n",
      "3609/3609 [==============================] - 24s - loss: 0.2853 - acc: 0.8767    - ETA: \n",
      "Epoch 4/5\n",
      "3609/3609 [==============================] - 24s - loss: 0.2744 - acc: 0.8820    \n",
      "Epoch 5/5\n",
      "3609/3609 [==============================] - 26s - loss: 0.2683 - acc: 0.8864    \n"
     ]
    },
    {
     "data": {
      "text/plain": [
       "<keras.callbacks.History at 0x84ed5f8>"
      ]
     },
     "execution_count": 55,
     "metadata": {},
     "output_type": "execute_result"
    }
   ],
   "source": [
    "model.fit(X_train_encoded, Y_train, batch_size=16, nb_epoch=5)"
   ]
  },
  {
   "cell_type": "code",
   "execution_count": 56,
   "metadata": {},
   "outputs": [
    {
     "name": "stdout",
     "output_type": "stream",
     "text": [
      "3584/3606 [============================>.] - ETA: 0s"
     ]
    }
   ],
   "source": [
    "y_pred1 = model.predict_classes(X_test_encoded)"
   ]
  },
  {
   "cell_type": "code",
   "execution_count": 57,
   "metadata": {
    "collapsed": true
   },
   "outputs": [],
   "source": [
    "import seaborn as sns\n",
    "\n",
    "import matplotlib.pyplot as plt\n",
    "\n",
    "from sklearn.metrics import precision_score, recall_score, accuracy_score, classification_report, confusion_matrix"
   ]
  },
  {
   "cell_type": "code",
   "execution_count": 58,
   "metadata": {},
   "outputs": [
    {
     "name": "stdout",
     "output_type": "stream",
     "text": [
      "             precision    recall  f1-score   support\n",
      "\n",
      "          0       0.61      0.17      0.27       774\n",
      "          1       0.81      0.97      0.88      2832\n",
      "\n",
      "avg / total       0.77      0.80      0.75      3606\n",
      "\n"
     ]
    },
    {
     "data": {
      "image/png": "[encoded data removed]",
      "text/plain": [
       "<matplotlib.figure.Figure at 0x192867f0>"
      ]
     },
     "metadata": {},
     "output_type": "display_data"
    }
   ],
   "source": [
    "labels = list(set(y_test))\n",
    "print(classification_report(y_test, y_pred1))\n",
    "sns.heatmap(data=confusion_matrix(y_test, y_pred1, labels = labels), \n",
    "            annot=True, fmt=\"d\", cbar=False, xticklabels=['male', 'female'], \n",
    "                                             yticklabels=['male', 'female'])\n",
    "plt.title(\"Confusion matrix\")\n",
    "plt.show()"
   ]
  },
  {
   "cell_type": "markdown",
   "metadata": {},
   "source": [
    "### Model2. Bidirectional LSTM\n",
    "- Два слоя 128 нейронов;\n",
    "- Dropout 0.2"
   ]
  },
  {
   "cell_type": "markdown",
   "metadata": {},
   "source": [
    "LSTM - рекуррентная сеть, предоставляет возможность предсказывать метку класса по предыдущей прочитанной цепочке. Bidirectional  LSTM сеть совершает два прохода по цепочке, прямой и обратный, что позволяет ей хранить не только информацию о предыдущих состояниях, но и о последующих. "
   ]
  },
  {
   "cell_type": "code",
   "execution_count": 59,
   "metadata": {
    "collapsed": true
   },
   "outputs": [],
   "source": [
    "model2 = Sequential()\n",
    "model2.add(Bidirectional(LSTM(128, return_sequences=True),\n",
    "                        input_shape=(max_len_name, len(alphabet))))\n",
    "model2.add(Dropout(0.2))\n",
    "model2.add(Bidirectional(LSTM(128, return_sequences=False)))\n",
    "model2.add(Dropout(0.2))\n",
    "model2.add(Dense(2))\n",
    "model2.add(Activation('softmax'))\n",
    "\n",
    "model2.compile(loss='categorical_crossentropy', optimizer='adam', metrics=['accuracy'])"
   ]
  },
  {
   "cell_type": "code",
   "execution_count": 60,
   "metadata": {},
   "outputs": [
    {
     "name": "stderr",
     "output_type": "stream",
     "text": [
      "C:\\Program Files\\Anaconda3\\envs\\mllecture\\lib\\site-packages\\keras\\models.py:848: UserWarning: The `nb_epoch` argument in `fit` has been renamed `epochs`.\n",
      "  warnings.warn('The `nb_epoch` argument in `fit` '\n"
     ]
    },
    {
     "name": "stdout",
     "output_type": "stream",
     "text": [
      "Epoch 1/5\n",
      "3609/3609 [==============================] - 57s - loss: 0.3748 - acc: 0.8288    \n",
      "Epoch 2/5\n",
      "3609/3609 [==============================] - 52s - loss: 0.2639 - acc: 0.8886    \n",
      "Epoch 3/5\n",
      "3609/3609 [==============================] - 48s - loss: 0.2448 - acc: 0.8975    \n",
      "Epoch 4/5\n",
      "3609/3609 [==============================] - 55s - loss: 0.2441 - acc: 0.8966    \n",
      "Epoch 5/5\n",
      "3609/3609 [==============================] - 52s - loss: 0.2458 - acc: 0.8930    \n"
     ]
    },
    {
     "data": {
      "text/plain": [
       "<keras.callbacks.History at 0x19299d68>"
      ]
     },
     "execution_count": 60,
     "metadata": {},
     "output_type": "execute_result"
    }
   ],
   "source": [
    "model2.fit(X_train_encoded, Y_train, batch_size=16, nb_epoch=5)"
   ]
  },
  {
   "cell_type": "code",
   "execution_count": 61,
   "metadata": {},
   "outputs": [
    {
     "name": "stdout",
     "output_type": "stream",
     "text": [
      "3606/3606 [==============================] - 14s    \n"
     ]
    }
   ],
   "source": [
    "y_pred2 = model2.predict_classes(X_test_encoded)"
   ]
  },
  {
   "cell_type": "code",
   "execution_count": 62,
   "metadata": {},
   "outputs": [
    {
     "name": "stdout",
     "output_type": "stream",
     "text": [
      "             precision    recall  f1-score   support\n",
      "\n",
      "          0       0.52      0.12      0.20       774\n",
      "          1       0.80      0.97      0.88      2832\n",
      "\n",
      "avg / total       0.74      0.79      0.73      3606\n",
      "\n"
     ]
    },
    {
     "data": {
      "image/png": "[encoded data removed]",
      "text/plain": [
       "<matplotlib.figure.Figure at 0x19292cc0>"
      ]
     },
     "metadata": {},
     "output_type": "display_data"
    }
   ],
   "source": [
    "labels = list(set(y_test))\n",
    "print(classification_report(y_test, y_pred2))\n",
    "sns.heatmap(data=confusion_matrix(y_test, y_pred2, labels = labels), \n",
    "            annot=True, fmt=\"d\", cbar=False, xticklabels=['male', 'female'], \n",
    "                                             yticklabels=['male', 'female'])\n",
    "plt.title(\"Confusion matrix\")\n",
    "plt.show()"
   ]
  },
  {
   "cell_type": "markdown",
   "metadata": {},
   "source": [
    "Bidirectional LSTM слои не дали преимущества, по сравнению с обычным LSTM."
   ]
  },
  {
   "cell_type": "code",
   "execution_count": 242,
   "metadata": {},
   "outputs": [
    {
     "name": "stdout",
     "output_type": "stream",
     "text": [
      "male: 1804 female: 1805\n"
     ]
    }
   ],
   "source": [
    "counter_x = 0\n",
    "counter_y = 0\n",
    "for mark in y_train:\n",
    "    if mark == 0:\n",
    "        counter_x +=1\n",
    "    else:\n",
    "        counter_y +=1\n",
    "print('male:', counter_x, 'female:', counter_y)"
   ]
  },
  {
   "cell_type": "markdown",
   "metadata": {},
   "source": [
    "### Model3. Bidirectional LSTM\n",
    "Попробуем улучшить качество модели, увеличив dropout. Dropout слои обнуляют заданную часть весов на предыдущем слое, таким образом, на каждом шаге часть связей, отобранных случайным образом, не передается на следующий слой, что позволяет бороться с переобучением. \n",
    "* Dropout 0.4;\n",
    "* 128 узлов на обоих слоях LSTM"
   ]
  },
  {
   "cell_type": "code",
   "execution_count": 67,
   "metadata": {
    "collapsed": true
   },
   "outputs": [],
   "source": [
    "model3 = Sequential()\n",
    "model3.add(Bidirectional(LSTM(128, return_sequences=True),\n",
    "                        input_shape=(max_len_name, len(alphabet))))\n",
    "model3.add(Dropout(0.4))\n",
    "model3.add(Bidirectional(LSTM(128, return_sequences=False)))\n",
    "model3.add(Dropout(0.4))\n",
    "model3.add(Dense(2))\n",
    "model3.add(Activation('softmax'))\n",
    "\n",
    "model3.compile(loss='categorical_crossentropy', optimizer='adam', metrics=['accuracy'])"
   ]
  },
  {
   "cell_type": "code",
   "execution_count": 68,
   "metadata": {},
   "outputs": [
    {
     "name": "stderr",
     "output_type": "stream",
     "text": [
      "C:\\Program Files\\Anaconda3\\envs\\mllecture\\lib\\site-packages\\keras\\models.py:848: UserWarning: The `nb_epoch` argument in `fit` has been renamed `epochs`.\n",
      "  warnings.warn('The `nb_epoch` argument in `fit` '\n"
     ]
    },
    {
     "name": "stdout",
     "output_type": "stream",
     "text": [
      "Epoch 1/5\n",
      "3609/3609 [==============================] - 51s - loss: 0.3673 - acc: 0.8238    \n",
      "Epoch 2/5\n",
      "3609/3609 [==============================] - 47s - loss: 0.2733 - acc: 0.8811    \n",
      "Epoch 3/5\n",
      "3609/3609 [==============================] - 54s - loss: 0.2560 - acc: 0.8881    \n",
      "Epoch 4/5\n",
      "3609/3609 [==============================] - 51s - loss: 0.2432 - acc: 0.8986    \n",
      "Epoch 5/5\n",
      "3609/3609 [==============================] - 63s - loss: 0.2356 - acc: 0.9005    \n"
     ]
    },
    {
     "data": {
      "text/plain": [
       "<keras.callbacks.History at 0x2943dc88>"
      ]
     },
     "execution_count": 68,
     "metadata": {},
     "output_type": "execute_result"
    }
   ],
   "source": [
    "model3.fit(X_train_encoded, Y_train, batch_size=16, nb_epoch=5)"
   ]
  },
  {
   "cell_type": "code",
   "execution_count": 69,
   "metadata": {},
   "outputs": [
    {
     "name": "stdout",
     "output_type": "stream",
     "text": [
      "3606/3606 [==============================] - 16s    \n"
     ]
    }
   ],
   "source": [
    "y_pred3 = model3.predict_classes(X_test_encoded)"
   ]
  },
  {
   "cell_type": "code",
   "execution_count": 70,
   "metadata": {},
   "outputs": [
    {
     "name": "stdout",
     "output_type": "stream",
     "text": [
      "             precision    recall  f1-score   support\n",
      "\n",
      "          0       0.52      0.12      0.20       774\n",
      "          1       0.80      0.97      0.88      2832\n",
      "\n",
      "avg / total       0.74      0.79      0.73      3606\n",
      "\n"
     ]
    },
    {
     "data": {
      "image/png": "[encoded data removed]",
      "text/plain": [
       "<matplotlib.figure.Figure at 0x30e3cc50>"
      ]
     },
     "metadata": {},
     "output_type": "display_data"
    }
   ],
   "source": [
    "labels = list(set(y_test))\n",
    "print(classification_report(y_test, y_pred2))\n",
    "sns.heatmap(data=confusion_matrix(y_test, y_pred2, labels = labels), \n",
    "            annot=True, fmt=\"d\", cbar=False, xticklabels=['male', 'female'], \n",
    "                                             yticklabels=['male', 'female'])\n",
    "plt.title(\"Confusion matrix\")\n",
    "plt.show()"
   ]
  },
  {
   "cell_type": "markdown",
   "metadata": {},
   "source": [
    "Увеличение значения dropout тоже не сильно повлияло на качество сети."
   ]
  },
  {
   "cell_type": "markdown",
   "metadata": {},
   "source": [
    "### Model4. LSTM\n",
    "- Разное количество узлов на разных слоях: первый слой - 128, второй - 64\n",
    "- Dropout 0.2"
   ]
  },
  {
   "cell_type": "code",
   "execution_count": 71,
   "metadata": {
    "collapsed": true
   },
   "outputs": [],
   "source": [
    "model4 = Sequential()\n",
    "model4.add(LSTM(128, return_sequences=True, input_shape=(max_len_name, len(alphabet))))\n",
    "model4.add(Dropout(0.2))\n",
    "model4.add(LSTM(64, return_sequences=False))\n",
    "model4.add(Dropout(0.2))\n",
    "model4.add(Dense(2))\n",
    "model4.add(Activation('softmax'))\n",
    "\n",
    "#model.compile(loss='binary_crossentropy', optimizer='rmsprop')\n",
    "model4.compile(loss='categorical_crossentropy', optimizer='adam', metrics=['accuracy'])"
   ]
  },
  {
   "cell_type": "code",
   "execution_count": 72,
   "metadata": {},
   "outputs": [
    {
     "name": "stderr",
     "output_type": "stream",
     "text": [
      "C:\\Program Files\\Anaconda3\\envs\\mllecture\\lib\\site-packages\\keras\\models.py:848: UserWarning: The `nb_epoch` argument in `fit` has been renamed `epochs`.\n",
      "  warnings.warn('The `nb_epoch` argument in `fit` '\n"
     ]
    },
    {
     "name": "stdout",
     "output_type": "stream",
     "text": [
      "Epoch 1/5\n",
      "3609/3609 [==============================] - 22s - loss: 0.4008 - acc: 0.8022    \n",
      "Epoch 2/5\n",
      "3609/3609 [==============================] - 15s - loss: 0.3039 - acc: 0.8717    \n",
      "Epoch 3/5\n",
      "3609/3609 [==============================] - 15s - loss: 0.2815 - acc: 0.8789    \n",
      "Epoch 4/5\n",
      "3609/3609 [==============================] - 18s - loss: 0.2676 - acc: 0.8822    \n",
      "Epoch 5/5\n",
      "3609/3609 [==============================] - 21s - loss: 0.2584 - acc: 0.8892    \n"
     ]
    },
    {
     "data": {
      "text/plain": [
       "<keras.callbacks.History at 0x30e5aac8>"
      ]
     },
     "execution_count": 72,
     "metadata": {},
     "output_type": "execute_result"
    }
   ],
   "source": [
    "model4.fit(X_train_encoded, Y_train, batch_size=16, nb_epoch=5)"
   ]
  },
  {
   "cell_type": "code",
   "execution_count": 73,
   "metadata": {},
   "outputs": [
    {
     "name": "stdout",
     "output_type": "stream",
     "text": [
      "3584/3606 [============================>.] - ETA: 0s"
     ]
    }
   ],
   "source": [
    "y_pred4 = model4.predict_classes(X_test_encoded)"
   ]
  },
  {
   "cell_type": "code",
   "execution_count": 74,
   "metadata": {},
   "outputs": [
    {
     "name": "stdout",
     "output_type": "stream",
     "text": [
      "             precision    recall  f1-score   support\n",
      "\n",
      "          0       0.68      0.21      0.32       774\n",
      "          1       0.82      0.97      0.89      2832\n",
      "\n",
      "avg / total       0.79      0.81      0.77      3606\n",
      "\n"
     ]
    },
    {
     "data": {
      "image/png": "[encoded data removed]",
      "text/plain": [
       "<matplotlib.figure.Figure at 0x39bf7be0>"
      ]
     },
     "metadata": {},
     "output_type": "display_data"
    }
   ],
   "source": [
    "labels = list(set(y_test))\n",
    "print(classification_report(y_test, y_pred4))\n",
    "sns.heatmap(data=confusion_matrix(y_test, y_pred4, labels = labels), \n",
    "            annot=True, fmt=\"d\", cbar=False, xticklabels=['male', 'female'], \n",
    "                                             yticklabels=['male', 'female'])\n",
    "plt.title(\"Confusion matrix\")\n",
    "plt.show()"
   ]
  },
  {
   "cell_type": "markdown",
   "metadata": {},
   "source": [
    "Эксперименты с числом нейронов в LSTM слоях позволили повысить качество классификации. Архитектура со 128 нейронами на первом LSTM слое и 64 на втором показала лучшие результаты. "
   ]
  },
  {
   "cell_type": "markdown",
   "metadata": {},
   "source": [
    "### Model6. LSTM\n",
    "- Два слоя по 512 нейронов\n",
    "- Dropout 0.4"
   ]
  },
  {
   "cell_type": "code",
   "execution_count": 79,
   "metadata": {
    "collapsed": true
   },
   "outputs": [],
   "source": [
    "model6 = Sequential()\n",
    "model6.add(LSTM(512, return_sequences=True, input_shape=(max_len_name, len(alphabet))))\n",
    "model6.add(Dropout(0.4))\n",
    "model6.add(LSTM(512, return_sequences=False))\n",
    "model6.add(Dropout(0.2))\n",
    "model6.add(Dense(2))\n",
    "model6.add(Activation('softmax'))\n",
    "\n",
    "model6.compile(loss='categorical_crossentropy', optimizer='adam', metrics=['accuracy'])"
   ]
  },
  {
   "cell_type": "code",
   "execution_count": 80,
   "metadata": {},
   "outputs": [
    {
     "name": "stderr",
     "output_type": "stream",
     "text": [
      "C:\\Program Files\\Anaconda3\\envs\\mllecture\\lib\\site-packages\\keras\\models.py:848: UserWarning: The `nb_epoch` argument in `fit` has been renamed `epochs`.\n",
      "  warnings.warn('The `nb_epoch` argument in `fit` '\n"
     ]
    },
    {
     "name": "stdout",
     "output_type": "stream",
     "text": [
      "Epoch 1/5\n",
      "3609/3609 [==============================] - 206s - loss: 0.3914 - acc: 0.8227   \n",
      "Epoch 2/5\n",
      "3609/3609 [==============================] - 193s - loss: 0.3232 - acc: 0.8612   \n",
      "Epoch 3/5\n",
      "3609/3609 [==============================] - 196s - loss: 0.3351 - acc: 0.8579   \n",
      "Epoch 4/5\n",
      "3609/3609 [==============================] - 196s - loss: 0.2962 - acc: 0.8761   \n",
      "Epoch 5/5\n",
      "3609/3609 [==============================] - 190s - loss: 0.3039 - acc: 0.8700   \n"
     ]
    },
    {
     "data": {
      "text/plain": [
       "<keras.callbacks.History at 0x39c19eb8>"
      ]
     },
     "execution_count": 80,
     "metadata": {},
     "output_type": "execute_result"
    }
   ],
   "source": [
    "model6.fit(X_train_encoded, Y_train, batch_size=16, nb_epoch=5)"
   ]
  },
  {
   "cell_type": "code",
   "execution_count": 81,
   "metadata": {},
   "outputs": [
    {
     "name": "stdout",
     "output_type": "stream",
     "text": [
      "3606/3606 [==============================] - 40s    \n"
     ]
    }
   ],
   "source": [
    "y_pred6 = model6.predict_classes(X_test_encoded)"
   ]
  },
  {
   "cell_type": "code",
   "execution_count": 82,
   "metadata": {
    "scrolled": false
   },
   "outputs": [
    {
     "name": "stdout",
     "output_type": "stream",
     "text": [
      "             precision    recall  f1-score   support\n",
      "\n",
      "          0       0.67      0.18      0.28       774\n",
      "          1       0.81      0.98      0.89      2832\n",
      "\n",
      "avg / total       0.78      0.81      0.76      3606\n",
      "\n"
     ]
    },
    {
     "data": {
      "image/png": "[encoded data removed]",
      "text/plain": [
       "<matplotlib.figure.Figure at 0x452868d0>"
      ]
     },
     "metadata": {},
     "output_type": "display_data"
    }
   ],
   "source": [
    "labels = list(set(y_test))\n",
    "print(classification_report(y_test, y_pred6))\n",
    "sns.heatmap(data=confusion_matrix(y_test, y_pred6, labels = labels), \n",
    "            annot=True, fmt=\"d\", cbar=False, xticklabels=['male', 'female'], \n",
    "                                             yticklabels=['male', 'female'])\n",
    "plt.title(\"Confusion matrix\")\n",
    "plt.show()"
   ]
  },
  {
   "cell_type": "markdown",
   "metadata": {},
   "source": [
    "Значительное увеличение числа нейроно на обоих слоях тоже не дало заметного изменения в результатах."
   ]
  },
  {
   "cell_type": "markdown",
   "metadata": {},
   "source": [
    "Самое высокое качество классификации получилось с использованием сети с двумя LSTM слоями, на первом слое 128 нейронов, на втором - 64 нейрона (F-мера = 77%), что сходится с представлением о том, что на скрытых слоях должно быть  среднее между входным и выходным слоем число нейронов."
   ]
  },
  {
   "cell_type": "markdown",
   "metadata": {},
   "source": [
    "По сравнению с Наивным Байесовским классификатором средние по классам значения метрик качества выше для нейронной сети, однако у нейросети больше разброс по метрикам качества между классами. <br>\n",
    "Интересно, что классификатор Байеса лучше определяет мужские имена, а нейросеть женские. Но найти этому логического объяснения не удалось."
   ]
  },
  {
   "cell_type": "code",
   "execution_count": null,
   "metadata": {
    "collapsed": true
   },
   "outputs": [],
   "source": []
  }
 ],
 "metadata": {
  "kernelspec": {
   "display_name": "Python 3",
   "language": "python",
   "name": "python3"
  },
  "language_info": {
   "codemirror_mode": {
    "name": "ipython",
    "version": 3
   },
   "file_extension": ".py",
   "mimetype": "text/x-python",
   "name": "python",
   "nbconvert_exporter": "python",
   "pygments_lexer": "ipython3",
   "version": "3.5.3"
  }
 },
 "nbformat": 4,
 "nbformat_minor": 2
}
